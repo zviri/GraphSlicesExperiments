{
 "cells": [
  {
   "cell_type": "code",
   "execution_count": 1,
   "metadata": {},
   "outputs": [
    {
     "name": "stderr",
     "output_type": "stream",
     "text": [
      "/usr/local/lib/python2.7/dist-packages/ipykernel/__main__.py:6: DeprecationWarning: the sets module is deprecated\n"
     ]
    }
   ],
   "source": [
    "import codecs\n",
    "import argparse\n",
    "import datetime as dt\n",
    "import psycopg2\n",
    "import psycopg2.extras\n",
    "from sets import Set\n",
    "import pandas as pd\n",
    "import re\n",
    "\n",
    "engine, _ = isir_db()"
   ]
  },
  {
   "cell_type": "code",
   "execution_count": 2,
   "metadata": {
    "collapsed": true
   },
   "outputs": [],
   "source": [
    "def get_senate(reference_number):\n",
    "    matcher = re.search('([A-Z]+) ([0-9]+) INS .*', reference_number)\n",
    "    if not matcher:\n",
    "        return None    \n",
    "    return matcher.group(1) + \"-\" + matcher.group(2)"
   ]
  },
  {
   "cell_type": "code",
   "execution_count": 3,
   "metadata": {
    "collapsed": true
   },
   "outputs": [],
   "source": [
    "def get_senate_num(reference_number):\n",
    "    matcher = re.search('([A-Z]+) ([0-9]+) INS .*', reference_number)\n",
    "    return matcher.group(2) if matcher else None"
   ]
  },
  {
   "cell_type": "code",
   "execution_count": 4,
   "metadata": {},
   "outputs": [
    {
     "data": {
      "text/plain": [
       "'KSPL-27'"
      ]
     },
     "execution_count": 4,
     "metadata": {},
     "output_type": "execute_result"
    }
   ],
   "source": [
    "get_senate('KSPL 27 INS 2047 / 2014')"
   ]
  },
  {
   "cell_type": "markdown",
   "metadata": {},
   "source": [
    "# Nodes"
   ]
  },
  {
   "cell_type": "code",
   "execution_count": 5,
   "metadata": {},
   "outputs": [
    {
     "data": {
      "text/plain": [
       "(100, 3)"
      ]
     },
     "execution_count": 5,
     "metadata": {},
     "output_type": "execute_result"
    }
   ],
   "source": [
    "creditor_df = pd.DataFrame(\n",
    "    engine.execute(\n",
    "        \"SELECT creditor_string_id, max(creditor) as creditor_name, count(*) as c  \\\n",
    "         FROM v_creditors_receivables ft \\\n",
    "         GROUP BY creditor_string_id \\\n",
    "         ORDER BY c DESC \\\n",
    "         LIMIT 100\"\n",
    "    ).fetchall(), columns = [\"id\", \"name\", \"count\"]\n",
    ").drop_duplicates().drop(labels=[\"count\"], axis=1)\n",
    "creditor_df[\"type\"] = \"creditor\"\n",
    "creditor_df.shape"
   ]
  },
  {
   "cell_type": "code",
   "execution_count": 6,
   "metadata": {
    "collapsed": true
   },
   "outputs": [],
   "source": [
    "creditor_ids = list(creditor_df[\"id\"].values)"
   ]
  },
  {
   "cell_type": "code",
   "execution_count": 7,
   "metadata": {},
   "outputs": [
    {
     "data": {
      "text/plain": [
       "(877, 3)"
      ]
     },
     "execution_count": 7,
     "metadata": {},
     "output_type": "execute_result"
    }
   ],
   "source": [
    "administrators_df = pd.DataFrame(\n",
    "    engine.execute(\n",
    "     \"SELECT at.id, at.name  \\\n",
    "      FROM administrators_tab at \\\n",
    "      JOIN insolvencies_administrators_tab iat ON iat.administrator_id=at.id \\\n",
    "      JOIN (SELECT it.id \\\n",
    "            FROM insolvency_tab it \\\n",
    "                  JOIN v_creditors_receivables ft2 ON it.id=ft2.insolvency_id \\\n",
    "            WHERE ft2.creditor_string_id is not null \\\n",
    "                  AND ft2.creditor_string_id = ANY(%(creditor_ids)s) \\\n",
    "            GROUP BY it.id) as its \\\n",
    "      ON iat.insolvency_id=its.id \\\n",
    "      GROUP BY at.id, at.name\", creditor_ids=creditor_ids\n",
    "    ).fetchall(), columns = [\"id\", \"name\"]\n",
    ").drop_duplicates()\n",
    "administrators_df[\"id\"] = administrators_df[\"id\"].apply(lambda id_: \"adm_%d\" % id_)\n",
    "administrators_df[\"type\"] = \"administrator\"\n",
    "administrators_df.shape"
   ]
  },
  {
   "cell_type": "code",
   "execution_count": 8,
   "metadata": {},
   "outputs": [
    {
     "data": {
      "text/plain": [
       "(154200, 7)"
      ]
     },
     "execution_count": 8,
     "metadata": {},
     "output_type": "execute_result"
    }
   ],
   "source": [
    "insolvencies_df = pd.DataFrame(\n",
    "    engine.execute(\n",
    "        \"SELECT it3.id as id, it3.debtor_name as debtor_name, it3.person_type as person_type, it3.reference_number as reference_number, it3.region_id, it3.proposal_timestamp::DATE \\\n",
    "            FROM insolvency_tab it3  \\\n",
    "            JOIN (SELECT it.id \\\n",
    "                  FROM insolvency_tab it \\\n",
    "                       JOIN v_creditors_receivables ft2 ON it.id=ft2.insolvency_id \\\n",
    "                  WHERE ft2.creditor_string_id is not null \\\n",
    "                       AND ft2.creditor_string_id = ANY(%(creditor_ids)s) \\\n",
    "                  GROUP BY it.id) as insolvencies \\\n",
    "            ON it3.id=insolvencies.id\", creditor_ids=creditor_ids\n",
    "    ).fetchall(), columns=[\"id\", \"name\", \"person_type\", \"reference_number\", \"region_id\", \"date\"]\n",
    ").drop_duplicates()\n",
    "insolvencies_df[\"type\"] = \"debtor\"\n",
    "insolvencies_df.shape"
   ]
  },
  {
   "cell_type": "code",
   "execution_count": 9,
   "metadata": {},
   "outputs": [],
   "source": [
    "nodes_df = creditor_df.append(administrators_df).append(\n",
    "    insolvencies_df.drop(labels=[\"reference_number\"], axis=1)\n",
    ")\n",
    "nodes_df = nodes_df[[\"id\", \"name\", \"person_type\", \"region_id\", \"type\", \"date\"]]\n",
    "nodes_df.shape\n",
    "node_ids = set(nodes_df[\"id\"].values)"
   ]
  },
  {
   "cell_type": "markdown",
   "metadata": {},
   "source": [
    "# Edges"
   ]
  },
  {
   "cell_type": "code",
   "execution_count": 10,
   "metadata": {},
   "outputs": [
    {
     "data": {
      "text/plain": [
       "(191978, 5)"
      ]
     },
     "execution_count": 10,
     "metadata": {},
     "output_type": "execute_result"
    }
   ],
   "source": [
    "insolvency_administrator_edges_df = pd.DataFrame(\n",
    "    engine.execute(\n",
    "        \"SELECT it.id AS insolvency_id, iat.administrator_id, start_date::DATE, end_date::DATE \\\n",
    "         FROM insolvencies_administrators_tab iat JOIN insolvency_tab it ON iat.insolvency_id=it.id\"\n",
    "    ).fetchall(), columns=[\"insolvency_id\", \"administrator_id\", \"start_date\", \"end_date\"]\n",
    ").drop_duplicates()\n",
    "insolvency_administrator_edges_df[\n",
    "    \"administrator_id\"\n",
    "] = insolvency_administrator_edges_df[\"administrator_id\"].apply(lambda id_: \"adm_%d\" % id_)\n",
    "insolvency_administrator_edges_df[\"type\"] = \"ins_adm\"\n",
    "insolvency_administrator_edges_df.shape"
   ]
  },
  {
   "cell_type": "code",
   "execution_count": 11,
   "metadata": {
    "collapsed": true
   },
   "outputs": [],
   "source": [
    "insolvency_end_dates_df = pd.DataFrame(\n",
    "    engine.execute(\n",
    "    \"SELECT insolvency_id, MAX(state_change_timestamp)::DATE \\\n",
    "     FROM current_insolvency_states_tab WHERE state = 9 GROUP BY insolvency_id\"\n",
    "    ).fetchall(), columns=[\"insolvency_id\", \"end_date\"]\n",
    ")"
   ]
  },
  {
   "cell_type": "code",
   "execution_count": 12,
   "metadata": {},
   "outputs": [
    {
     "data": {
      "text/plain": [
       "(1559845, 5)"
      ]
     },
     "execution_count": 12,
     "metadata": {},
     "output_type": "execute_result"
    }
   ],
   "source": [
    "insolvency_creditor_edges_df = pd.DataFrame(\n",
    "    engine.execute(\n",
    "        \"SELECT insolvency_id, creditor_string_id, proposal_timestamp::DATE \\\n",
    "         FROM v_creditors_receivables \\\n",
    "              JOIN insolvency_tab it ON insolvency_id=it.id \\\n",
    "         WHERE creditor_string_id is not null\"\n",
    "    ).fetchall(), columns=[\"insolvency_id\", \"creditor_id\", \"start_date\"]\n",
    ").drop_duplicates()\n",
    "insolvency_creditor_edges_df = insolvency_creditor_edges_df.merge(\n",
    "    insolvency_end_dates_df, left_on=\"insolvency_id\", right_on=\"insolvency_id\", how=\"left\"\n",
    ")\n",
    "insolvency_creditor_edges_df[\"type\"] = \"ins_cred\"\n",
    "insolvency_creditor_edges_df.shape"
   ]
  },
  {
   "cell_type": "code",
   "execution_count": 13,
   "metadata": {},
   "outputs": [
    {
     "data": {
      "text/plain": [
       "(3498988, 4)"
      ]
     },
     "execution_count": 13,
     "metadata": {},
     "output_type": "execute_result"
    }
   ],
   "source": [
    "insolvency_insolvency_edges_df = pd.DataFrame(\n",
    "    engine.execute(\n",
    "        \"SELECT it1.id as insolvency_id1, it2.id as insolvency_id2, it1.proposal_timestamp::DATE \\\n",
    "         FROM insolvency_tab it1 JOIN insolvency_tab it2 ON it1.debtor_address = it2.debtor_address \\\n",
    "         WHERE it1.debtor_address is not null  \\\n",
    "               AND it2.debtor_address is not null \\\n",
    "               AND it1.debtor_name <> it2.debtor_name \\\n",
    "               AND it1.id <> it2.id\"\n",
    "    ).fetchall(), columns=[\"insolvency_id1\", \"insolvency_id2\", \"date\"]\n",
    ").drop_duplicates()\n",
    "insolvency_insolvency_edges_df[\"type\"] = \"ins_ins\"\n",
    "insolvency_insolvency_edges_df.shape"
   ]
  },
  {
   "cell_type": "code",
   "execution_count": 14,
   "metadata": {
    "collapsed": true
   },
   "outputs": [],
   "source": [
    "insolvencies_df[\"senate\"] = insolvencies_df[\"reference_number\"].apply(get_senate)\n",
    "\n",
    "senate_insolvency_edges_df = insolvencies_df[\n",
    "    insolvencies_df[\"senate\"].notnull()\n",
    "][[\"id\", \"senate\", \"date\"]].rename(columns={\"id\": \"source_id\", \"senate\": \"target_id\", \"date\": \"start_date\"})\n",
    "senate_insolvency_edges_df = senate_insolvency_edges_df.merge(\n",
    "    insolvency_end_dates_df, left_on=\"source_id\", right_on=\"insolvency_id\", how=\"left\"\n",
    ").drop(\"insolvency_id\", axis=1)\n",
    "senate_insolvency_edges_df[\"type\"] = \"sen_ins\""
   ]
  },
  {
   "cell_type": "code",
   "execution_count": 15,
   "metadata": {},
   "outputs": [
    {
     "data": {
      "text/plain": [
       "(1905981, 5)"
      ]
     },
     "execution_count": 15,
     "metadata": {},
     "output_type": "execute_result"
    }
   ],
   "source": [
    "edges_df = insolvency_administrator_edges_df.rename(\n",
    "    columns={\"insolvency_id\": \"source_id\", \"administrator_id\": \"target_id\"}\n",
    ").append(\n",
    "    insolvency_creditor_edges_df.rename(\n",
    "        columns={\"insolvency_id\": \"source_id\", \"creditor_id\": \"target_id\"}\n",
    "    )\n",
    ").append(senate_insolvency_edges_df)\n",
    "# .append(\n",
    "#     insolvency_insolvency_edges_df.rename(\n",
    "#         columns={\"insolvency_id1\": \"srcId\", \"insolvency_id2\": \"dstId\"}\n",
    "#     )\n",
    "# )\n",
    "edges_df.apply(lambda row: row[\"source_id\"] in node_ids and row[\"target_id\"] in node_ids, axis=1)\n",
    "edges_df = edges_df[[\"source_id\", \"target_id\", \"type\", \"start_date\", \"end_date\"]]\n",
    "edges_df.shape"
   ]
  },
  {
   "cell_type": "code",
   "execution_count": 16,
   "metadata": {},
   "outputs": [],
   "source": [
    "assert nodes_df[\"id\"].isnull().sum() == 0\n",
    "assert edges_df[\"source_id\"].isnull().sum() == 0\n",
    "assert edges_df[\"target_id\"].isnull().sum() == 0"
   ]
  },
  {
   "cell_type": "code",
   "execution_count": 17,
   "metadata": {},
   "outputs": [
    {
     "data": {
      "text/plain": [
       "(155177, 6)"
      ]
     },
     "execution_count": 17,
     "metadata": {},
     "output_type": "execute_result"
    }
   ],
   "source": [
    "# remove deg 0 nodes\n",
    "edge_node_ids = set(edges_df[\"source_id\"].values).union(set(edges_df[\"target_id\"].values))\n",
    "nodes_df = nodes_df[nodes_df[\"id\"].apply(lambda id_: id_ in edge_node_ids)]\n",
    "nodes_df.shape"
   ]
  },
  {
   "cell_type": "markdown",
   "metadata": {},
   "source": [
    "# Saving dataset"
   ]
  },
  {
   "cell_type": "code",
   "execution_count": 18,
   "metadata": {},
   "outputs": [],
   "source": [
    "nodes_df.to_csv(\"/home/zviri/data/isir/networks_2.0/nodes.tsv\", \n",
    "                sep=\"\\t\", encoding=\"utf-8\", index=False)"
   ]
  },
  {
   "cell_type": "code",
   "execution_count": 19,
   "metadata": {
    "collapsed": true
   },
   "outputs": [],
   "source": [
    "edges_df.to_csv(\"/home/zviri/data/isir/networks_2.0/edges.tsv\", \n",
    "                 sep=\"\\t\", encoding=\"utf-8\", index=False)"
   ]
  },
  {
   "cell_type": "code",
   "execution_count": null,
   "metadata": {
    "collapsed": true
   },
   "outputs": [],
   "source": []
  }
 ],
 "metadata": {
  "kernelspec": {
   "display_name": "Python 2",
   "language": "python",
   "name": "python2"
  },
  "language_info": {
   "codemirror_mode": {
    "name": "ipython",
    "version": 3
   },
   "file_extension": ".py",
   "mimetype": "text/x-python",
   "name": "python",
   "nbconvert_exporter": "python",
   "pygments_lexer": "ipython3",
   "version": "3.6.4"
  }
 },
 "nbformat": 4,
 "nbformat_minor": 1
}
