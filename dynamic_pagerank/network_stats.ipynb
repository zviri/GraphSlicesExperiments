{
 "cells": [
  {
   "cell_type": "code",
   "execution_count": null,
   "metadata": {},
   "outputs": [],
   "source": [
    "import pandas as pd\n",
    "import networkx as nx\n",
    "import seaborn as sns\n",
    "sns.set()\n",
    "%pylab inline"
   ]
  },
  {
   "cell_type": "code",
   "execution_count": null,
   "metadata": {
    "tags": [
     "parameters"
    ]
   },
   "outputs": [],
   "source": [
    "nodes_tsv = \"\"\n",
    "edges_tsv = \"\""
   ]
  },
  {
   "cell_type": "code",
   "execution_count": null,
   "metadata": {},
   "outputs": [],
   "source": [
    "nodes_df = pd.read_csv(nodes_tsv, encoding=\"utf-8\", sep=\"\\t\")\n",
    "edges_df = pd.read_csv(edges_tsv, encoding=\"utf-8\", sep=\"\\t\")"
   ]
  },
  {
   "cell_type": "markdown",
   "metadata": {},
   "source": [
    "# Basic Stats"
   ]
  },
  {
   "cell_type": "code",
   "execution_count": null,
   "metadata": {},
   "outputs": [],
   "source": [
    "nodes_df.groupby(\"node_type\").count()[[\"id\"]]"
   ]
  },
  {
   "cell_type": "code",
   "execution_count": null,
   "metadata": {},
   "outputs": [],
   "source": [
    "nodes_df\\\n",
    "    .groupby(\"region_id\").count()[[\"id\"]]\\\n",
    "    .plot(kind=\"bar\", title=\"Number of insolvencies per region\", figsize=(14,4));"
   ]
  },
  {
   "cell_type": "code",
   "execution_count": null,
   "metadata": {},
   "outputs": [],
   "source": [
    "edges_df[\"start_date\"] = pd.to_datetime(edges_df[\"start_date\"])\n",
    "edges_df[\"day_month\"] = edges_df[\"start_date\"].apply(lambda d: d.replace(day=1))\n",
    "\n",
    "ins_per_month = edges_df.groupby(\"day_month\").count()[\"source_id\"].sort_index()\n",
    "ins_per_month.plot(figsize=(12,4), title=\"Number of insolvencies per month\");"
   ]
  },
  {
   "cell_type": "code",
   "execution_count": null,
   "metadata": {},
   "outputs": [],
   "source": [
    "ins_per_month[ins_per_month.index > pd.datetime(2016, 1, 1)]\\\n",
    "    .plot(figsize=(12,4), title=\"Number of insolvencies per month (2016-2018)\");"
   ]
  },
  {
   "cell_type": "markdown",
   "metadata": {},
   "source": [
    "# Graph Stats"
   ]
  },
  {
   "cell_type": "code",
   "execution_count": null,
   "metadata": {},
   "outputs": [],
   "source": [
    "g = nx.DiGraph()\n",
    "\n",
    "for _, node in nodes_df.iterrows():\n",
    "    g.add_node(node.id, name=node.name, \n",
    "               node_type=node.node_type, person_type=node.person_type)\n",
    "    \n",
    "for _, edge in edges_df.iterrows():\n",
    "    g.add_edge(edge.source_id, edge.target_id, \n",
    "               edge_type=edge.edge_type)\n",
    "\n",
    "pr = nx.pagerank(g)\n",
    "hits_h, hits_a = nx.hits(g)"
   ]
  },
  {
   "cell_type": "code",
   "execution_count": null,
   "metadata": {},
   "outputs": [],
   "source": [
    "pr_df = pd.DataFrame([(k,v) for k, v in pr.items()], columns=[\"id\", \"pr\"])\n",
    "pr_df = pr_df.merge(nodes_df, on=\"id\")\n",
    "ax = pr_df[pr_df.node_type == \"debtor\"][\"pr\"].hist(bins=100, xrot=45)\n",
    "ax.set_yscale('log')\n",
    "ax.set_title(\"Debtor PageRank Hist (LOG SCALE!)\");"
   ]
  },
  {
   "cell_type": "code",
   "execution_count": null,
   "metadata": {},
   "outputs": [],
   "source": [
    "ax = pr_df[pr_df.node_type == \"creditor\"][\"pr\"].hist(bins=100, xrot=45)\n",
    "ax.set_title(\"Creditor PageRank Hist (Normal SCALE!)\");"
   ]
  },
  {
   "cell_type": "code",
   "execution_count": null,
   "metadata": {},
   "outputs": [],
   "source": [
    "if len(pr_df[pr_df.node_type == \"administrator\"]) > 0:\n",
    "    ax = pr_df[pr_df.node_type == \"administrator\"][\"pr\"].hist(bins=100, xrot=45)\n",
    "    ax.set_title(\"Administrator PageRank Hist (Normal SCALE!)\");"
   ]
  },
  {
   "cell_type": "code",
   "execution_count": null,
   "metadata": {},
   "outputs": [],
   "source": [
    "hits_hubs_df = pd.DataFrame([(k,v) for k, v in hits_h.items()], \n",
    "                            columns=[\"id\", \"hub\"])\n",
    "hits_auth_df = pd.DataFrame([(k,v) for k, v in hits_a.items()], \n",
    "                            columns=[\"id\", \"auth\"])\n",
    "hits_df = hits_hubs_df\\\n",
    "    .merge(hits_auth_df, on=\"id\")\\\n",
    "    .merge(nodes_df, on=\"id\")\n",
    "ax = hits_df[hits_df.node_type == \"debtor\"][\"hub\"].hist(bins=100, xrot=45);\n",
    "ax.set_title(\"Debtor HubScore Hist (Normal SCALE!)\");"
   ]
  },
  {
   "cell_type": "code",
   "execution_count": null,
   "metadata": {},
   "outputs": [],
   "source": [
    "ax = hits_df[hits_df.node_type == \"debtor\"][\"auth\"].hist(bins=100, xrot=45)\n",
    "ax.set_yscale('log')\n",
    "ax.set_title(\"Debtor AuthScore Hist (LOG SCALE!)\");"
   ]
  },
  {
   "cell_type": "code",
   "execution_count": null,
   "metadata": {},
   "outputs": [],
   "source": [
    "ax = hits_df[hits_df.node_type == \"creditor\"][\"auth\"].hist(bins=100, xrot=45)\n",
    "ax.set_title(\"Creditor AuthScore Hist (Normal SCALE!)\");"
   ]
  },
  {
   "cell_type": "code",
   "execution_count": null,
   "metadata": {},
   "outputs": [],
   "source": [
    "if len(hits_df[hits_df.node_type == \"administrator\"]) > 0:\n",
    "    ax = hits_df[hits_df.node_type == \"administrator\"][\"auth\"].hist(bins=100, xrot=45)\n",
    "    ax.set_yscale('log')\n",
    "    ax.set_title(\"Administrator AuthScore Hist (LOG SCALE!)\");"
   ]
  },
  {
   "cell_type": "code",
   "execution_count": null,
   "metadata": {},
   "outputs": [],
   "source": [
    "if len(hits_df[hits_df.node_type == \"administrator\"]) > 0:    \n",
    "    ax = hits_df[hits_df.node_type == \"administrator\"][\"auth\"].hist(bins=100, xrot=45)\n",
    "    ax.set_title(\"Administrator AuthScore Hist (Normal SCALE!)\");"
   ]
  }
 ],
 "metadata": {
  "kernelspec": {
   "display_name": "GraphSlicesPy3.5",
   "language": "python",
   "name": "graphslicespy3.5"
  },
  "language_info": {
   "codemirror_mode": {
    "name": "ipython",
    "version": 3
   },
   "file_extension": ".py",
   "mimetype": "text/x-python",
   "name": "python",
   "nbconvert_exporter": "python",
   "pygments_lexer": "ipython3",
   "version": "3.5.5"
  }
 },
 "nbformat": 4,
 "nbformat_minor": 2
}
