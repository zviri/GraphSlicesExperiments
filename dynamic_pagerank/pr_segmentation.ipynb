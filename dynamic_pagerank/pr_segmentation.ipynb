{
 "cells": [
  {
   "cell_type": "code",
   "execution_count": null,
   "metadata": {},
   "outputs": [],
   "source": [
    "import pandas as pd\n",
    "import json\n",
    "from unstdlib.standard.list_ import listify\n",
    "import seaborn as sns\n",
    "import matplotlib.pyplot as plt\n",
    "sns.set_style(\"whitegrid\")\n",
    "%matplotlib inline"
   ]
  },
  {
   "cell_type": "code",
   "execution_count": null,
   "metadata": {
    "tags": [
     "parameters"
    ]
   },
   "outputs": [],
   "source": [
    "graph_path = \"\""
   ]
  },
  {
   "cell_type": "code",
   "execution_count": null,
   "metadata": {},
   "outputs": [],
   "source": [
    "@listify\n",
    "def load_json_line(path):\n",
    "    with open(path, \"r\") as f:\n",
    "        for json_line in f:\n",
    "            row = json.loads(json_line)\n",
    "            yield row\n",
    "rows = load_json_line(graph_path)\n",
    "dataset_df = pd.DataFrame(rows)"
   ]
  },
  {
   "cell_type": "code",
   "execution_count": null,
   "metadata": {},
   "outputs": [],
   "source": [
    "def flatten_pr(row):\n",
    "    row_dict = {\"id\": row.id, \"nodeType\": row.nodeType}\n",
    "    for year, pr in row.pr:\n",
    "        row_dict[year] = pr\n",
    "    return pd.Series(row_dict)\n",
    "        \n",
    "pr_df = dataset_df.apply(flatten_pr, axis=1)"
   ]
  },
  {
   "cell_type": "code",
   "execution_count": null,
   "metadata": {},
   "outputs": [],
   "source": [
    "fig, ax = plt.subplots(figsize=(14,4))\n",
    "plt.title(\"PageRank histogram\")\n",
    "plt.hist([pr_df[2008], pr_df[2010], pr_df[2012], pr_df[2014], pr_df[2016], pr_df[2018]],\n",
    "          label=[2008, 2010, 2012, 2014, 2016, 2018],\n",
    "          bins=15, log=True);\n",
    "plt.legend(loc='upper right');"
   ]
  },
  {
   "cell_type": "code",
   "execution_count": null,
   "metadata": {},
   "outputs": [],
   "source": []
  }
 ],
 "metadata": {
  "kernelspec": {
   "display_name": "GraphSlicesPy3.5",
   "language": "python",
   "name": "graphslicespy3.5"
  },
  "language_info": {
   "codemirror_mode": {
    "name": "ipython",
    "version": 3
   },
   "file_extension": ".py",
   "mimetype": "text/x-python",
   "name": "python",
   "nbconvert_exporter": "python",
   "pygments_lexer": "ipython3",
   "version": "3.5.5"
  }
 },
 "nbformat": 4,
 "nbformat_minor": 2
}
