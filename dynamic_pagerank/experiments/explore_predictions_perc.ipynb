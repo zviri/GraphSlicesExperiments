{
 "cells": [
  {
   "cell_type": "code",
   "execution_count": null,
   "metadata": {
    "papermill": {
     "duration": 0.008959,
     "end_time": "2018-09-14T10:53:22.307514",
     "exception": false,
     "start_time": "2018-09-14T10:53:22.298555",
     "status": "completed"
    },
    "slideshow": {
     "slide_type": "-"
    },
    "tags": [
     "parameters"
    ]
   },
   "outputs": [],
   "source": [
    "model_path = \"\"\n",
    "dataset_path = \"\"\n",
    "insdata_path = \"\"\n",
    "best_params_path = \"\"\n",
    "cross_val_stats_path = \"\"\n",
    "experiment_description_path = \"\""
   ]
  },
  {
   "cell_type": "code",
   "execution_count": null,
   "metadata": {
    "papermill": {
     "duration": 0.010286,
     "end_time": "2018-09-14T10:53:22.334402",
     "exception": false,
     "start_time": "2018-09-14T10:53:22.324116",
     "status": "completed"
    },
    "tags": []
   },
   "outputs": [],
   "source": [
    "# import os\n",
    "# os.chdir(\"/Users/peterzvirinsky/src/git/GraphSlicesExperiments/dynamic_pagerank/\")"
   ]
  },
  {
   "cell_type": "code",
   "execution_count": null,
   "metadata": {
    "papermill": {
     "duration": 0.951362,
     "end_time": "2018-09-14T10:53:23.285836",
     "exception": false,
     "start_time": "2018-09-14T10:53:22.334474",
     "status": "completed"
    },
    "tags": []
   },
   "outputs": [],
   "source": [
    "import pandas as pd\n",
    "import matplotlib.pyplot as plt\n",
    "import json\n",
    "from common import load_markup\n",
    "import seaborn\n",
    "import keras\n",
    "from plots import plot_ice_grid\n",
    "from pycebox.ice import ice\n",
    "\n",
    "seaborn.set_style(\"whitegrid\")"
   ]
  },
  {
   "cell_type": "markdown",
   "metadata": {},
   "source": [
    "# Experiment"
   ]
  },
  {
   "cell_type": "code",
   "execution_count": null,
   "metadata": {},
   "outputs": [],
   "source": [
    "experiment_description = load_markup(experiment_description_path)\n",
    "dataset_df = pd.read_csv(dataset_path)\n",
    "model = model = keras.models.load_model(model_path)\n",
    "best_params = json.load(open(best_params_path))\n",
    "cv_stats_df = pd.read_csv(cross_val_stats_path)"
   ]
  },
  {
   "cell_type": "code",
   "execution_count": null,
   "metadata": {
    "papermill": {
     "duration": 0.171231,
     "end_time": "2018-09-14T10:53:23.465250",
     "exception": false,
     "start_time": "2018-09-14T10:53:23.294019",
     "status": "completed"
    },
    "tags": []
   },
   "outputs": [],
   "source": [
    "display(experiment_description)"
   ]
  },
  {
   "cell_type": "code",
   "execution_count": null,
   "metadata": {},
   "outputs": [],
   "source": [
    "model.summary()"
   ]
  },
  {
   "cell_type": "markdown",
   "metadata": {},
   "source": [
    "### Basic eval"
   ]
  },
  {
   "cell_type": "code",
   "execution_count": null,
   "metadata": {},
   "outputs": [],
   "source": [
    "print(\"{}-fold cross val results:\".format(cv_stats_df.shape[0]))\n",
    "cv_stats_df.mean().to_frame(name=\"Score\")"
   ]
  },
  {
   "cell_type": "markdown",
   "metadata": {
    "papermill": {
     "duration": 0.65045,
     "end_time": "2018-09-14T10:53:24.116025",
     "exception": false,
     "start_time": "2018-09-14T10:53:23.465575",
     "status": "completed"
    },
    "tags": []
   },
   "source": [
    "### Test predictions"
   ]
  },
  {
   "cell_type": "code",
   "execution_count": null,
   "metadata": {},
   "outputs": [],
   "source": [
    "X = dataset_df.drop(\"year_0\", axis=1)\n",
    "y = dataset_df[\"year_0\"]"
   ]
  },
  {
   "cell_type": "code",
   "execution_count": null,
   "metadata": {},
   "outputs": [],
   "source": [
    "predictions = model.predict(X)\n",
    "dataset_df[\"prediction\"] = predictions\n",
    "dataset_df[\"prediction_abs_err\"] = (dataset_df[\"prediction\"] - dataset_df[\"year_0\"]).abs()"
   ]
  },
  {
   "cell_type": "code",
   "execution_count": null,
   "metadata": {
    "papermill": {
     "duration": 0.022029,
     "end_time": "2018-09-14T10:53:24.138263",
     "exception": false,
     "start_time": "2018-09-14T10:53:24.116234",
     "status": "completed"
    },
    "tags": []
   },
   "outputs": [],
   "source": [
    "dataset_df.sort_values(by=\"prediction_abs_err\", ascending=False)"
   ]
  },
  {
   "cell_type": "markdown",
   "metadata": {},
   "source": [
    "## Prediction vs true plots"
   ]
  },
  {
   "cell_type": "code",
   "execution_count": null,
   "metadata": {},
   "outputs": [],
   "source": [
    "insdata_df = pd.read_csv(insdata_path)\n",
    "assert insdata_df.shape[0] == dataset_df.shape[0]"
   ]
  },
  {
   "cell_type": "code",
   "execution_count": null,
   "metadata": {},
   "outputs": [],
   "source": [
    "def plot_true_vs_pred_for(node_string_id):\n",
    "    dataset_df[insdata_df.stringId == node_string_id][\"year_0\"].reset_index(drop=True).plot(figsize=(12, 4), title=\"True\")\n",
    "    plt.show()\n",
    "    dataset_df[insdata_df.stringId == node_string_id][\"prediction\"].reset_index(drop=True).plot(figsize=(12, 4), title=\"Prediction\")\n",
    "    plt.show()"
   ]
  },
  {
   "cell_type": "markdown",
   "metadata": {},
   "source": [
    "### Ge Money Bank"
   ]
  },
  {
   "cell_type": "code",
   "execution_count": null,
   "metadata": {},
   "outputs": [],
   "source": [
    "plot_true_vs_pred_for(\"gemoneybank\")"
   ]
  },
  {
   "cell_type": "markdown",
   "metadata": {},
   "source": [
    "### T mobile"
   ]
  },
  {
   "cell_type": "code",
   "execution_count": null,
   "metadata": {},
   "outputs": [],
   "source": [
    "plot_true_vs_pred_for(\"t-mobileczechrepublic\")"
   ]
  },
  {
   "cell_type": "markdown",
   "metadata": {},
   "source": [
    "### Cetelem"
   ]
  },
  {
   "cell_type": "code",
   "execution_count": null,
   "metadata": {},
   "outputs": [],
   "source": [
    "plot_true_vs_pred_for(\"cetelemčr\")"
   ]
  },
  {
   "cell_type": "markdown",
   "metadata": {},
   "source": [
    "### Bohemia Faktoring"
   ]
  },
  {
   "cell_type": "code",
   "execution_count": null,
   "metadata": {},
   "outputs": [],
   "source": [
    "plot_true_vs_pred_for(\"bohemiafaktoring\")"
   ]
  },
  {
   "cell_type": "markdown",
   "metadata": {},
   "source": [
    "## ICE and PDP plots"
   ]
  },
  {
   "cell_type": "code",
   "execution_count": null,
   "metadata": {},
   "outputs": [],
   "source": [
    "X_unique = X.drop_duplicates().copy()\n",
    "train_ice_dfs = {feat: ice(data=X_unique, column=feat, predict=model.predict) \n",
    "                 for feat in X.columns}"
   ]
  },
  {
   "cell_type": "code",
   "execution_count": null,
   "metadata": {},
   "outputs": [],
   "source": [
    "fig = plot_ice_grid(train_ice_dfs, X_unique, X.columns,\n",
    "                    ax_ylabel='Pred. AV %ile', alpha=0.3, plot_pdp=True,\n",
    "                    pdp_kwargs={'c': 'red', 'linewidth': 3},\n",
    "                    linewidth=0.5, c='dimgray')\n",
    "fig.tight_layout()\n",
    "fig.suptitle('ICE plots (training data)')\n",
    "fig.subplots_adjust(top=0.89);"
   ]
  }
 ],
 "metadata": {
  "kernelspec": {
   "display_name": "GraphSlicesPy3.5",
   "language": "python",
   "name": "graphslicespy3.5"
  },
  "language_info": {
   "codemirror_mode": {
    "name": "ipython",
    "version": 3
   },
   "file_extension": ".py",
   "mimetype": "text/x-python",
   "name": "python",
   "nbconvert_exporter": "python",
   "pygments_lexer": "ipython3",
   "version": "3.5.5"
  },
  "papermill": {
   "duration": 3.467184,
   "end_time": "2018-09-14T10:53:24.816581",
   "environment_variables": {},
   "exception": false,
   "output_path": "data/experiments/clustering/6/kmeansclusters_explore.ipynb",
   "parameters": {
    "clusters_path": "data/datasets/kmeansclusters_6.csv",
    "cv_stats_path": "data/experiments/clustering/6/cross_val_stats.json",
    "insdata_path": "data/datasets/insdata_6.csv",
    "model_path": "data/experiments/clustering/6/model.pkl",
    "ts_path": "data/datasets/ts_6.csv"
   },
   "start_time": "2018-09-14T10:53:21.349397",
   "version": "0.15.0"
  }
 },
 "nbformat": 4,
 "nbformat_minor": 2
}
