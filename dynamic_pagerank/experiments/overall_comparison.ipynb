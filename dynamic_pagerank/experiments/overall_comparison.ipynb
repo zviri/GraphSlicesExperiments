{
 "cells": [
  {
   "cell_type": "code",
   "execution_count": null,
   "metadata": {},
   "outputs": [],
   "source": [
    "import pandas as pd\n",
    "import scipy.stats as st\n",
    "import re\n",
    "from collections import OrderedDict\n",
    "from pathlib import Path\n",
    "import os \n",
    "import json\n",
    "\n",
    "EXPERIMENTS_PATH_REGEX = \"data/experiments/([0-9a-zA-Z\\-_]+)/([0-9]+)/([0-9a-zA-Z\\-_]+)/\"\n",
    "\n",
    "def get_experiment_identifier(matcher):\n",
    "    return \"{}_{}_{}\".format(matcher[1], matcher[2], matcher[3])\n",
    "\n",
    "def load_stats_results(path):\n",
    "    m = re.search(EXPERIMENTS_PATH_REGEX + \"cross_val_stats.csv\", path)\n",
    "    experiment_identifier = get_experiment_identifier(m)\n",
    "    cross_val_stats = pd.read_csv(path)\n",
    "    return (experiment_identifier, cross_val_stats)\n",
    "\n",
    "def generate_cross_val_summary(cross_val_df):\n",
    "    mean_s = cross_val_df.mean()\n",
    "    std_s = cross_val_df.std()\n",
    "    for metric in mean_s.index:\n",
    "        conf_interval = st.t.interval(0.95, len(cross_val_df), loc=mean_s[metric], scale=std_s[metric])\n",
    "        yield (metric, (mean_s[metric], conf_interval[0], conf_interval[1]))\n",
    "        \n",
    "def generate_overall_stats(experiments_stats_):\n",
    "    results_dict = OrderedDict()\n",
    "    for experiment_identifier, cros_val_stat_df in experiments_stats_:\n",
    "        stats_summary_dict = OrderedDict(generate_cross_val_summary(cros_val_stat_df))\n",
    "        results_dict[experiment_identifier] = stats_summary_dict\n",
    "    return results_dict\n",
    "\n",
    "def gen_comparison_table(metric, overall_stats_df_):\n",
    "    \"\"\"\n",
    "    metric = MSE|MAE|R2|CrossEntropy\n",
    "    \"\"\"\n",
    "    comparison_df = []\n",
    "    for experiment_identifier, stats_summary in overall_stats_df_.items():\n",
    "        stats_row = stats_summary[metric]\n",
    "        comparison_df += [[experiment_identifier, *stats_row]]\n",
    "    comparison_df = pd.DataFrame(comparison_df, columns=[\"experiment_key\", \"mean_score\", \"conf_lower\", \"conf_upper\"]).sort_values(by=\"mean_score\")\n",
    "    return comparison_df\n",
    "\n",
    "def load_params(best_params_list_):\n",
    "    params_df = []\n",
    "    for path in best_params_list_:\n",
    "        m = re.search(EXPERIMENTS_PATH_REGEX + \"best_params.json\", path)\n",
    "        experiment_identifier = get_experiment_identifier(m)\n",
    "        params = json.load(open(path))\n",
    "        params[\"experiment_key\"] = experiment_identifier\n",
    "        params_df += [params]\n",
    "    return pd.DataFrame(params_df)"
   ]
  },
  {
   "cell_type": "code",
   "execution_count": null,
   "metadata": {
    "tags": [
     "parameters"
    ]
   },
   "outputs": [],
   "source": [
    "data_path = \"\"\n",
    "exec_dir = \"\""
   ]
  },
  {
   "cell_type": "code",
   "execution_count": null,
   "metadata": {},
   "outputs": [],
   "source": [
    "os.chdir(exec_dir)\n",
    "cross_val_stats_list = [str(p) for p in Path(data_path).glob('**/cross_val_stats.csv')]\n",
    "best_params_list = [str(p) for p in Path(data_path).glob('**/best_params.json')]"
   ]
  },
  {
   "cell_type": "code",
   "execution_count": null,
   "metadata": {},
   "outputs": [],
   "source": [
    "experiments_stats = list(map(load_stats_results, cross_val_stats_list))\n",
    "overall_stats_df = generate_overall_stats(experiments_stats)\n",
    "params_df = load_params(best_params_list)"
   ]
  },
  {
   "cell_type": "code",
   "execution_count": null,
   "metadata": {},
   "outputs": [],
   "source": [
    "stat_df = gen_comparison_table('MSE', overall_stats_df)\n",
    "stat_df.merge(params_df, on=\"experiment_key\")"
   ]
  },
  {
   "cell_type": "code",
   "execution_count": null,
   "metadata": {},
   "outputs": [],
   "source": [
    "stat_df = gen_comparison_table('MAE', overall_stats_df)\n",
    "stat_df.merge(params_df, on=\"experiment_key\")"
   ]
  },
  {
   "cell_type": "code",
   "execution_count": null,
   "metadata": {},
   "outputs": [],
   "source": [
    "stat_df = gen_comparison_table('CrossEntropy', overall_stats_df)\n",
    "stat_df.merge(params_df, on=\"experiment_key\")"
   ]
  },
  {
   "cell_type": "code",
   "execution_count": null,
   "metadata": {},
   "outputs": [],
   "source": [
    "stat_df = gen_comparison_table('R2', overall_stats_df)\n",
    "stat_df.merge(params_df, on=\"experiment_key\")"
   ]
  },
  {
   "cell_type": "code",
   "execution_count": null,
   "metadata": {},
   "outputs": [],
   "source": []
  },
  {
   "cell_type": "code",
   "execution_count": null,
   "metadata": {},
   "outputs": [],
   "source": []
  }
 ],
 "metadata": {
  "kernelspec": {
   "display_name": "Python 3",
   "language": "python",
   "name": "python3"
  },
  "language_info": {
   "codemirror_mode": {
    "name": "ipython",
    "version": 3
   },
   "file_extension": ".py",
   "mimetype": "text/x-python",
   "name": "python",
   "nbconvert_exporter": "python",
   "pygments_lexer": "ipython3",
   "version": "3.7.4"
  }
 },
 "nbformat": 4,
 "nbformat_minor": 4
}
