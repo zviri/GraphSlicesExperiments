{
 "cells": [
  {
   "cell_type": "code",
   "execution_count": null,
   "metadata": {},
   "outputs": [],
   "source": [
    "import pandas as pd"
   ]
  },
  {
   "cell_type": "code",
   "execution_count": null,
   "metadata": {
    "tags": [
     "parameters"
    ]
   },
   "outputs": [],
   "source": [
    "receivables_path = \"\""
   ]
  },
  {
   "cell_type": "code",
   "execution_count": null,
   "metadata": {},
   "outputs": [],
   "source": [
    "receivables_df = pd.read_csv(receivables_path, encoding=\"utf-8\")"
   ]
  },
  {
   "cell_type": "code",
   "execution_count": null,
   "metadata": {},
   "outputs": [],
   "source": [
    "receivables_df = receivables_df[[\"insolvency_id\", \"publish_date\", \"creditor\", \"creditor_string_id\",\n",
    "                \"is_deputy\", \"is_not_deputy\", \"deputy_type\", \"deputy_name\", \"url\"]]"
   ]
  },
  {
   "cell_type": "code",
   "execution_count": null,
   "metadata": {},
   "outputs": [],
   "source": [
    "num_receivables = receivables_df.shape[0]\n",
    "print(\"Number of processed receivables: {:,}\".format(num_receivables))"
   ]
  },
  {
   "cell_type": "code",
   "execution_count": null,
   "metadata": {},
   "outputs": [],
   "source": [
    "print(\"Deputy vs no deputy identification accuracy: {:0.2f}%\".format((receivables_df[\"is_deputy\"].sum() + receivables_df[\"is_not_deputy\"].sum() + 0.) / num_receivables * 100))"
   ]
  },
  {
   "cell_type": "code",
   "execution_count": null,
   "metadata": {},
   "outputs": [],
   "source": [
    "print(\"Is deputy ratio: {:0.2f}%\".format((receivables_df[\"is_deputy\"].sum() + 0.) / num_receivables * 100))\n",
    "print(\"Is deputy count: {:,}\".format(receivables_df[\"is_deputy\"].sum()))"
   ]
  },
  {
   "cell_type": "code",
   "execution_count": null,
   "metadata": {},
   "outputs": [],
   "source": [
    "print(\"Deputy type identified ratio: {:0.2f}%\".format(((receivables_df[\"is_deputy\"] & receivables_df[\"deputy_type\"].notna()).sum() + 0.) / num_receivables * 100))\n",
    "print(\"Deputy type identified count: {:,}\".format(((receivables_df[\"is_deputy\"] & receivables_df[\"deputy_type\"].notna()).sum()) ))"
   ]
  },
  {
   "cell_type": "code",
   "execution_count": null,
   "metadata": {},
   "outputs": [],
   "source": [
    "print(\"Deputy name identified ratio: {:0.2f}%\".format(((receivables_df[\"deputy_name\"].notna()).sum() + 0.) / num_receivables * 100))\n",
    "print(\"Deputy name identified count: {:,}\".format(receivables_df[\"deputy_name\"].notna().sum()))"
   ]
  },
  {
   "cell_type": "code",
   "execution_count": null,
   "metadata": {},
   "outputs": [],
   "source": []
  }
 ],
 "metadata": {
  "kernelspec": {
   "display_name": "GraphSlicesPy3.5",
   "language": "python",
   "name": "graphslicespy3.5"
  },
  "language_info": {
   "codemirror_mode": {
    "name": "ipython",
    "version": 3
   },
   "file_extension": ".py",
   "mimetype": "text/x-python",
   "name": "python",
   "nbconvert_exporter": "python",
   "pygments_lexer": "ipython3",
   "version": "3.5.5"
  }
 },
 "nbformat": 4,
 "nbformat_minor": 2
}
