{
 "cells": [
  {
   "cell_type": "code",
   "execution_count": 1,
   "metadata": {},
   "outputs": [],
   "source": [
    "import pandas as pd\n",
    "import json\n",
    "import numpy as np\n",
    "from collections import OrderedDict\n",
    "from sklearn import linear_model\n",
    "from sklearn.neural_network import MLPRegressor\n",
    "from sklearn.metrics import mean_squared_error, r2_score, mean_absolute_error\n",
    "from sklearn.model_selection import train_test_split, KFold\n",
    "from sklearn.preprocessing import MinMaxScaler\n",
    "from imblearn.over_sampling.random_over_sampler import RandomOverSampler\n",
    "import matplotlib.pyplot as plt\n",
    "import seaborn\n",
    "\n",
    "seaborn.set_style(\"dark\")\n",
    "\n",
    "%matplotlib inline"
   ]
  },
  {
   "cell_type": "code",
   "execution_count": 2,
   "metadata": {},
   "outputs": [],
   "source": [
    "yearly_prs = []\n",
    "insolvency_data = []\n",
    "for line in open(\"./data/evolving_pagerank_large_graph_yearly_experiment.jsonline\"):\n",
    "    record = json.loads(line)\n",
    "    yearly_prs += [dict(record[\"pr\"])]\n",
    "    insolvency_data += [{\"id\": record[\"id\"], \"stringId\": record[\"stringId\"], \"nodeType\": record[\"nodeType\"]}]\n",
    "yearly_prs_df = pd.DataFrame(yearly_prs)\n",
    "insolvency_data_df = pd.DataFrame(insolvency_data)\n",
    "assert yearly_prs_df.shape[0] == insolvency_data_df.shape[0]"
   ]
  },
  {
   "cell_type": "code",
   "execution_count": 3,
   "metadata": {},
   "outputs": [],
   "source": [
    "yearly_prs_df = yearly_prs_df.drop([2008, 2009, 2010], axis=1)"
   ]
  },
  {
   "cell_type": "markdown",
   "metadata": {},
   "source": [
    "## Preprocessing"
   ]
  },
  {
   "cell_type": "code",
   "execution_count": 4,
   "metadata": {},
   "outputs": [],
   "source": [
    "def rolling_window(a, window):\n",
    "    shape = a.shape[:-1] + (a.shape[-1] - window + 1, window)\n",
    "    strides = a.strides + (a.strides[-1],)\n",
    "    return np.lib.stride_tricks.as_strided(a, shape=shape, strides=strides)"
   ]
  },
  {
   "cell_type": "code",
   "execution_count": 5,
   "metadata": {},
   "outputs": [],
   "source": [
    "WINDOW_SIZE = 4\n",
    "dataset_df = pd.DataFrame()\n",
    "dataset_insdata_df = pd.DataFrame()\n",
    "for window in rolling_window(yearly_prs_df.columns, WINDOW_SIZE):\n",
    "    features = yearly_prs_df[window[:WINDOW_SIZE - 1]]\n",
    "    features.columns = np.array(\n",
    "        map(lambda idx: \"year_{}\".format(idx), reversed(range(1, len(window[:-1]) + 1)))\n",
    "    )\n",
    "    \n",
    "    pred = yearly_prs_df[[window[-1]]]\n",
    "    pred.columns = np.array([\"year_0\"])\n",
    "    dataset_df = dataset_df.append(pd.concat([features, pred], axis=1))\n",
    "    dataset_insdata_df = dataset_insdata_df.append(insolvency_data_df)\n",
    "    \n",
    "assert dataset_insdata_df.shape[0] == dataset_df.shape[0]"
   ]
  },
  {
   "cell_type": "code",
   "execution_count": 6,
   "metadata": {},
   "outputs": [],
   "source": [
    "scaler = MinMaxScaler(feature_range=(0, 1))"
   ]
  },
  {
   "cell_type": "code",
   "execution_count": 7,
   "metadata": {},
   "outputs": [],
   "source": [
    "X = dataset_df.drop(\"year_0\", axis=1)\n",
    "y = dataset_df[[\"year_0\"]]"
   ]
  },
  {
   "cell_type": "code",
   "execution_count": 8,
   "metadata": {},
   "outputs": [
    {
     "data": {
      "text/plain": [
       "Text(0.5,1,'Histogram of raw values')"
      ]
     },
     "execution_count": 8,
     "metadata": {},
     "output_type": "execute_result"
    },
    {
     "data": {
      "image/png": "[encoded data removed]",
      "text/plain": [
       "<Figure size 432x288 with 1 Axes>"
      ]
     },
     "metadata": {},
     "output_type": "display_data"
    }
   ],
   "source": [
    "_ = plt.hist(y.values, 20)\n",
    "plt.title(\"Histogram of raw values\")"
   ]
  },
  {
   "cell_type": "code",
   "execution_count": 9,
   "metadata": {},
   "outputs": [],
   "source": [
    "X = scaler.fit_transform(X)\n",
    "y = scaler.fit_transform(y)"
   ]
  },
  {
   "cell_type": "code",
   "execution_count": 10,
   "metadata": {},
   "outputs": [
    {
     "data": {
      "text/plain": [
       "Text(0.5,1,'Histogram of values after 0-1 rescaling')"
      ]
     },
     "execution_count": 10,
     "metadata": {},
     "output_type": "execute_result"
    },
    {
     "data": {
      "image/png": "[encoded data removed]",
      "text/plain": [
       "<Figure size 432x288 with 1 Axes>"
      ]
     },
     "metadata": {},
     "output_type": "display_data"
    }
   ],
   "source": [
    "_ = plt.hist(y, 20)\n",
    "plt.title(\"Histogram of values after 0-1 rescaling\")"
   ]
  },
  {
   "cell_type": "code",
   "execution_count": 11,
   "metadata": {},
   "outputs": [],
   "source": [
    "apply_sigmoid_func = np.vectorize(lambda x: 1 / (1 + np.exp(-4 * x)))\n",
    "\n",
    "X = apply_sigmoid_func(X)\n",
    "y = apply_sigmoid_func(y)"
   ]
  },
  {
   "cell_type": "code",
   "execution_count": 12,
   "metadata": {},
   "outputs": [
    {
     "data": {
      "text/plain": [
       "Text(0.5,1,'Histogram of values after applying the sigmoid function')"
      ]
     },
     "execution_count": 12,
     "metadata": {},
     "output_type": "execute_result"
    },
    {
     "data": {
      "image/png": "[encoded data removed]",
      "text/plain": [
       "<Figure size 432x288 with 1 Axes>"
      ]
     },
     "metadata": {},
     "output_type": "display_data"
    }
   ],
   "source": [
    "_ = plt.hist(y, 20)\n",
    "plt.title(\"Histogram of values after applying the sigmoid function\")"
   ]
  },
  {
   "cell_type": "code",
   "execution_count": 13,
   "metadata": {},
   "outputs": [],
   "source": [
    "y = y.ravel()\n",
    "ros = RandomOverSampler()\n",
    "y_disc = np.digitize(y, np.arange(0, 1, 0.05))\n",
    "\n",
    "Xy = np.column_stack((X, y))\n",
    "Xy_resampled, y_resampled = ros.fit_sample(Xy, y_disc)\n",
    "\n",
    "X = Xy_resampled[:,0:3]\n",
    "y = Xy_resampled[:,3:4].T[0]"
   ]
  },
  {
   "cell_type": "code",
   "execution_count": 14,
   "metadata": {},
   "outputs": [
    {
     "data": {
      "text/plain": [
       "Text(0.5,1,'Histogram of values after oversampling smaller classes')"
      ]
     },
     "execution_count": 14,
     "metadata": {},
     "output_type": "execute_result"
    },
    {
     "data": {
      "image/png": "[encoded data removed]",
      "text/plain": [
       "<Figure size 432x288 with 1 Axes>"
      ]
     },
     "metadata": {},
     "output_type": "display_data"
    }
   ],
   "source": [
    "_ = plt.hist(y, 20)\n",
    "plt.title(\"Histogram of values after oversampling smaller classes\")"
   ]
  },
  {
   "cell_type": "markdown",
   "metadata": {},
   "source": [
    "## Model fitting"
   ]
  },
  {
   "cell_type": "code",
   "execution_count": 15,
   "metadata": {},
   "outputs": [],
   "source": [
    "model_factory = [(\"simple_lr\", lambda: linear_model.LinearRegression()),\n",
    "                 (\"mlp_single_layer_10\", lambda: MLPRegressor(hidden_layer_sizes=(10,), activation=\"logistic\", alpha=0.001, early_stopping=True)),\n",
    "                 (\"mlp_single_layer_20\", lambda: MLPRegressor(hidden_layer_sizes=(20,), activation=\"logistic\", alpha=0.001, early_stopping=True)),\n",
    "                 (\"mlp_single_layer_30\", lambda: MLPRegressor(hidden_layer_sizes=(30,), activation=\"logistic\", alpha=0.001, early_stopping=True)),\n",
    "                 (\"mlp_two_layer_10_10\", lambda: MLPRegressor(hidden_layer_sizes=(10, 10), activation=\"logistic\", alpha=0.001, early_stopping=True)),\n",
    "                 (\"mlp_two_layer_20_20\", lambda: MLPRegressor(hidden_layer_sizes=(20, 20), activation=\"logistic\", alpha=0.001, early_stopping=True)),\n",
    "                 (\"mlp_two_layer_30_30\", lambda: MLPRegressor(hidden_layer_sizes=(30, 30), activation=\"logistic\", alpha=0.001, early_stopping=True)),\n",
    "                ]"
   ]
  },
  {
   "cell_type": "code",
   "execution_count": 16,
   "metadata": {},
   "outputs": [
    {
     "name": "stdout",
     "output_type": "stream",
     "text": [
      "Fitting split 0\n",
      "\tFitting model: simple_lr\n",
      "\tFitting model: mlp_single_layer_10\n"
     ]
    },
    {
     "name": "stderr",
     "output_type": "stream",
     "text": [
      "/Users/peterzvirinsky/Envs/GraphSlices/lib/python2.7/site-packages/sklearn/linear_model/base.py:509: RuntimeWarning: internal gelsd driver lwork query error, required iwork dimension not returned. This is likely the result of LAPACK bug 0038, fixed in LAPACK 3.2.2 (released July 21, 2010). Falling back to 'gelss' driver.\n",
      "  linalg.lstsq(X, y)\n"
     ]
    },
    {
     "name": "stdout",
     "output_type": "stream",
     "text": [
      "\tFitting model: mlp_single_layer_20\n",
      "\tFitting model: mlp_single_layer_30\n",
      "\tFitting model: mlp_two_layer_10_10\n",
      "\tFitting model: mlp_two_layer_20_20\n",
      "\tFitting model: mlp_two_layer_30_30\n",
      "Fitting split 1\n",
      "\tFitting model: simple_lr\n",
      "\tFitting model: mlp_single_layer_10\n",
      "\tFitting model: mlp_single_layer_20\n",
      "\tFitting model: mlp_single_layer_30\n",
      "\tFitting model: mlp_two_layer_10_10\n",
      "\tFitting model: mlp_two_layer_20_20\n",
      "\tFitting model: mlp_two_layer_30_30\n",
      "Fitting split 2\n",
      "\tFitting model: simple_lr\n",
      "\tFitting model: mlp_single_layer_10\n",
      "\tFitting model: mlp_single_layer_20\n",
      "\tFitting model: mlp_single_layer_30\n",
      "\tFitting model: mlp_two_layer_10_10\n",
      "\tFitting model: mlp_two_layer_20_20\n",
      "\tFitting model: mlp_two_layer_30_30\n",
      "Fitting split 3\n",
      "\tFitting model: simple_lr\n",
      "\tFitting model: mlp_single_layer_10\n",
      "\tFitting model: mlp_single_layer_20\n",
      "\tFitting model: mlp_single_layer_30\n",
      "\tFitting model: mlp_two_layer_10_10\n",
      "\tFitting model: mlp_two_layer_20_20\n",
      "\tFitting model: mlp_two_layer_30_30\n",
      "Fitting split 4\n",
      "\tFitting model: simple_lr\n",
      "\tFitting model: mlp_single_layer_10\n",
      "\tFitting model: mlp_single_layer_20\n",
      "\tFitting model: mlp_single_layer_30\n",
      "\tFitting model: mlp_two_layer_10_10\n",
      "\tFitting model: mlp_two_layer_20_20\n",
      "\tFitting model: mlp_two_layer_30_30\n"
     ]
    }
   ],
   "source": [
    "kf = KFold(n_splits=5)\n",
    "stats_dict = OrderedDict()\n",
    "models_dict = OrderedDict()\n",
    "for split_idx, (train, test) in enumerate(kf.split(X)):\n",
    "    train_X = X[train]\n",
    "    train_y = y[train]\n",
    "    test_X = X[test]\n",
    "    test_y = y[test]\n",
    "    \n",
    "    models_dict[split_idx] = {}\n",
    "    print(\"Fitting split {}\".format(split_idx))\n",
    "    for name, model_builder in model_factory:\n",
    "        print(\"\\tFitting model: {}\".format(name))\n",
    "        stats_df = stats_dict.get(name, pd.DataFrame())\n",
    "        reg = model_builder()\n",
    "        reg.fit(train_X, train_y)\n",
    "        pred_y = reg.predict(test_X)\n",
    "        \n",
    "        models_dict[split_idx][name] = reg\n",
    "        stats_df = stats_df.append(pd.DataFrame(\n",
    "            [{\"mse\": mean_squared_error(test_y, pred_y),\n",
    "              \"mae\": mean_absolute_error(test_y, pred_y),\n",
    "              \"r2\": r2_score(test_y, pred_y)\n",
    "             }]), ignore_index=True)\n",
    "        stats_dict[name] = stats_df\n",
    "\n",
    "names, stats = zip(*stats_dict.items())\n",
    "stats_df = pd.concat(stats, keys=names, axis=1)"
   ]
  },
  {
   "cell_type": "markdown",
   "metadata": {},
   "source": [
    "## Evaluation"
   ]
  },
  {
   "cell_type": "code",
   "execution_count": 17,
   "metadata": {},
   "outputs": [
    {
     "data": {
      "image/png": "[encoded data removed]",
      "text/plain": [
       "<Figure size 864x216 with 1 Axes>"
      ]
     },
     "metadata": {},
     "output_type": "display_data"
    }
   ],
   "source": [
    "ax = stats_df.mean(axis=0)[:, \"mae\"].plot(kind=\"bar\", yerr=stats_df.std(axis=0)[:, \"mae\"], figsize=(12,3), fontsize=16)\n",
    "ax.set_title(\"Mean absolute error and std\", fontsize=18);"
   ]
  },
  {
   "cell_type": "code",
   "execution_count": 18,
   "metadata": {},
   "outputs": [
    {
     "data": {
      "text/html": [
       "<div>\n",
       "<style scoped>\n",
       "    .dataframe tbody tr th:only-of-type {\n",
       "        vertical-align: middle;\n",
       "    }\n",
       "\n",
       "    .dataframe tbody tr th {\n",
       "        vertical-align: top;\n",
       "    }\n",
       "\n",
       "    .dataframe thead th {\n",
       "        text-align: right;\n",
       "    }\n",
       "</style>\n",
       "<table border=\"1\" class=\"dataframe\">\n",
       "  <thead>\n",
       "    <tr style=\"text-align: right;\">\n",
       "      <th></th>\n",
       "      <th></th>\n",
       "      <th>mean</th>\n",
       "      <th>std</th>\n",
       "    </tr>\n",
       "  </thead>\n",
       "  <tbody>\n",
       "    <tr>\n",
       "      <th rowspan=\"3\" valign=\"top\">simple_lr</th>\n",
       "      <th>mae</th>\n",
       "      <td>0.009576</td>\n",
       "      <td>0.000967</td>\n",
       "    </tr>\n",
       "    <tr>\n",
       "      <th>mse</th>\n",
       "      <td>0.000168</td>\n",
       "      <td>0.000057</td>\n",
       "    </tr>\n",
       "    <tr>\n",
       "      <th>r2</th>\n",
       "      <td>0.795996</td>\n",
       "      <td>0.098560</td>\n",
       "    </tr>\n",
       "    <tr>\n",
       "      <th rowspan=\"3\" valign=\"top\">mlp_single_layer_10</th>\n",
       "      <th>mae</th>\n",
       "      <td>0.011043</td>\n",
       "      <td>0.001524</td>\n",
       "    </tr>\n",
       "    <tr>\n",
       "      <th>mse</th>\n",
       "      <td>0.000203</td>\n",
       "      <td>0.000077</td>\n",
       "    </tr>\n",
       "    <tr>\n",
       "      <th>r2</th>\n",
       "      <td>0.754973</td>\n",
       "      <td>0.110128</td>\n",
       "    </tr>\n",
       "    <tr>\n",
       "      <th rowspan=\"3\" valign=\"top\">mlp_single_layer_20</th>\n",
       "      <th>mae</th>\n",
       "      <td>0.010878</td>\n",
       "      <td>0.000837</td>\n",
       "    </tr>\n",
       "    <tr>\n",
       "      <th>mse</th>\n",
       "      <td>0.000198</td>\n",
       "      <td>0.000063</td>\n",
       "    </tr>\n",
       "    <tr>\n",
       "      <th>r2</th>\n",
       "      <td>0.765818</td>\n",
       "      <td>0.091078</td>\n",
       "    </tr>\n",
       "    <tr>\n",
       "      <th rowspan=\"3\" valign=\"top\">mlp_single_layer_30</th>\n",
       "      <th>mae</th>\n",
       "      <td>0.011542</td>\n",
       "      <td>0.001333</td>\n",
       "    </tr>\n",
       "    <tr>\n",
       "      <th>mse</th>\n",
       "      <td>0.000212</td>\n",
       "      <td>0.000058</td>\n",
       "    </tr>\n",
       "    <tr>\n",
       "      <th>r2</th>\n",
       "      <td>0.747914</td>\n",
       "      <td>0.100938</td>\n",
       "    </tr>\n",
       "    <tr>\n",
       "      <th rowspan=\"3\" valign=\"top\">mlp_two_layer_10_10</th>\n",
       "      <th>mae</th>\n",
       "      <td>0.014344</td>\n",
       "      <td>0.005007</td>\n",
       "    </tr>\n",
       "    <tr>\n",
       "      <th>mse</th>\n",
       "      <td>0.000317</td>\n",
       "      <td>0.000168</td>\n",
       "    </tr>\n",
       "    <tr>\n",
       "      <th>r2</th>\n",
       "      <td>0.666654</td>\n",
       "      <td>0.076039</td>\n",
       "    </tr>\n",
       "    <tr>\n",
       "      <th rowspan=\"3\" valign=\"top\">mlp_two_layer_20_20</th>\n",
       "      <th>mae</th>\n",
       "      <td>0.013222</td>\n",
       "      <td>0.002479</td>\n",
       "    </tr>\n",
       "    <tr>\n",
       "      <th>mse</th>\n",
       "      <td>0.000262</td>\n",
       "      <td>0.000060</td>\n",
       "    </tr>\n",
       "    <tr>\n",
       "      <th>r2</th>\n",
       "      <td>0.691692</td>\n",
       "      <td>0.124893</td>\n",
       "    </tr>\n",
       "    <tr>\n",
       "      <th rowspan=\"3\" valign=\"top\">mlp_two_layer_30_30</th>\n",
       "      <th>mae</th>\n",
       "      <td>0.012695</td>\n",
       "      <td>0.001095</td>\n",
       "    </tr>\n",
       "    <tr>\n",
       "      <th>mse</th>\n",
       "      <td>0.000256</td>\n",
       "      <td>0.000063</td>\n",
       "    </tr>\n",
       "    <tr>\n",
       "      <th>r2</th>\n",
       "      <td>0.701092</td>\n",
       "      <td>0.097591</td>\n",
       "    </tr>\n",
       "  </tbody>\n",
       "</table>\n",
       "</div>"
      ],
      "text/plain": [
       "                             mean       std\n",
       "simple_lr           mae  0.009576  0.000967\n",
       "                    mse  0.000168  0.000057\n",
       "                    r2   0.795996  0.098560\n",
       "mlp_single_layer_10 mae  0.011043  0.001524\n",
       "                    mse  0.000203  0.000077\n",
       "                    r2   0.754973  0.110128\n",
       "mlp_single_layer_20 mae  0.010878  0.000837\n",
       "                    mse  0.000198  0.000063\n",
       "                    r2   0.765818  0.091078\n",
       "mlp_single_layer_30 mae  0.011542  0.001333\n",
       "                    mse  0.000212  0.000058\n",
       "                    r2   0.747914  0.100938\n",
       "mlp_two_layer_10_10 mae  0.014344  0.005007\n",
       "                    mse  0.000317  0.000168\n",
       "                    r2   0.666654  0.076039\n",
       "mlp_two_layer_20_20 mae  0.013222  0.002479\n",
       "                    mse  0.000262  0.000060\n",
       "                    r2   0.691692  0.124893\n",
       "mlp_two_layer_30_30 mae  0.012695  0.001095\n",
       "                    mse  0.000256  0.000063\n",
       "                    r2   0.701092  0.097591"
      ]
     },
     "execution_count": 18,
     "metadata": {},
     "output_type": "execute_result"
    }
   ],
   "source": [
    "stats_df.mean(axis=0).to_frame(name=\"mean\").merge(\n",
    "    stats_df.std(axis=0).to_frame(\"std\"), left_index=True, right_index=True\n",
    ")"
   ]
  },
  {
   "cell_type": "markdown",
   "metadata": {},
   "source": [
    "# Individual evaluation"
   ]
  },
  {
   "cell_type": "code",
   "execution_count": 19,
   "metadata": {},
   "outputs": [],
   "source": [
    "test_reg = models_dict[1][\"mlp_two_layer_30_30\"]"
   ]
  },
  {
   "cell_type": "code",
   "execution_count": 20,
   "metadata": {},
   "outputs": [],
   "source": [
    "def eval_node(stringId, test_reg):\n",
    "    test_df = dataset_df[dataset_insdata_df[\"stringId\"] == stringId].copy()\n",
    "    test_df[\"year_0_pred\"] = test_reg.predict(test_df.drop([\"year_0\"], axis=1))\n",
    "    test_df[\"pred_err\"] = (test_df[\"year_0_pred\"] - test_df[\"year_0\"]).abs()\n",
    "    return test_df"
   ]
  },
  {
   "cell_type": "markdown",
   "metadata": {},
   "source": [
    "## Creditors"
   ]
  },
  {
   "cell_type": "code",
   "execution_count": 21,
   "metadata": {},
   "outputs": [
    {
     "data": {
      "text/html": [
       "<div>\n",
       "<style scoped>\n",
       "    .dataframe tbody tr th:only-of-type {\n",
       "        vertical-align: middle;\n",
       "    }\n",
       "\n",
       "    .dataframe tbody tr th {\n",
       "        vertical-align: top;\n",
       "    }\n",
       "\n",
       "    .dataframe thead th {\n",
       "        text-align: right;\n",
       "    }\n",
       "</style>\n",
       "<table border=\"1\" class=\"dataframe\">\n",
       "  <thead>\n",
       "    <tr style=\"text-align: right;\">\n",
       "      <th></th>\n",
       "      <th>year_3</th>\n",
       "      <th>year_2</th>\n",
       "      <th>year_1</th>\n",
       "      <th>year_0</th>\n",
       "      <th>year_0_pred</th>\n",
       "      <th>pred_err</th>\n",
       "    </tr>\n",
       "  </thead>\n",
       "  <tbody>\n",
       "    <tr>\n",
       "      <th>2822</th>\n",
       "      <td>0.004590</td>\n",
       "      <td>0.011407</td>\n",
       "      <td>0.016947</td>\n",
       "      <td>0.020687</td>\n",
       "      <td>0.043956</td>\n",
       "      <td>0.023269</td>\n",
       "    </tr>\n",
       "    <tr>\n",
       "      <th>2822</th>\n",
       "      <td>0.011407</td>\n",
       "      <td>0.016947</td>\n",
       "      <td>0.020687</td>\n",
       "      <td>0.023165</td>\n",
       "      <td>0.046934</td>\n",
       "      <td>0.023769</td>\n",
       "    </tr>\n",
       "    <tr>\n",
       "      <th>2822</th>\n",
       "      <td>0.016947</td>\n",
       "      <td>0.020687</td>\n",
       "      <td>0.023165</td>\n",
       "      <td>0.021894</td>\n",
       "      <td>0.048669</td>\n",
       "      <td>0.026775</td>\n",
       "    </tr>\n",
       "    <tr>\n",
       "      <th>2822</th>\n",
       "      <td>0.020687</td>\n",
       "      <td>0.023165</td>\n",
       "      <td>0.021894</td>\n",
       "      <td>0.020265</td>\n",
       "      <td>0.046923</td>\n",
       "      <td>0.026658</td>\n",
       "    </tr>\n",
       "    <tr>\n",
       "      <th>2822</th>\n",
       "      <td>0.023165</td>\n",
       "      <td>0.021894</td>\n",
       "      <td>0.020265</td>\n",
       "      <td>0.019640</td>\n",
       "      <td>0.044492</td>\n",
       "      <td>0.024852</td>\n",
       "    </tr>\n",
       "  </tbody>\n",
       "</table>\n",
       "</div>"
      ],
      "text/plain": [
       "        year_3    year_2    year_1    year_0  year_0_pred  pred_err\n",
       "2822  0.004590  0.011407  0.016947  0.020687     0.043956  0.023269\n",
       "2822  0.011407  0.016947  0.020687  0.023165     0.046934  0.023769\n",
       "2822  0.016947  0.020687  0.023165  0.021894     0.048669  0.026775\n",
       "2822  0.020687  0.023165  0.021894  0.020265     0.046923  0.026658\n",
       "2822  0.023165  0.021894  0.020265  0.019640     0.044492  0.024852"
      ]
     },
     "execution_count": 21,
     "metadata": {},
     "output_type": "execute_result"
    }
   ],
   "source": [
    "## GE Money Bank\n",
    "eval_node(\"gemoneybank\", test_reg)"
   ]
  },
  {
   "cell_type": "code",
   "execution_count": 22,
   "metadata": {},
   "outputs": [
    {
     "data": {
      "text/html": [
       "<div>\n",
       "<style scoped>\n",
       "    .dataframe tbody tr th:only-of-type {\n",
       "        vertical-align: middle;\n",
       "    }\n",
       "\n",
       "    .dataframe tbody tr th {\n",
       "        vertical-align: top;\n",
       "    }\n",
       "\n",
       "    .dataframe thead th {\n",
       "        text-align: right;\n",
       "    }\n",
       "</style>\n",
       "<table border=\"1\" class=\"dataframe\">\n",
       "  <thead>\n",
       "    <tr style=\"text-align: right;\">\n",
       "      <th></th>\n",
       "      <th>year_3</th>\n",
       "      <th>year_2</th>\n",
       "      <th>year_1</th>\n",
       "      <th>year_0</th>\n",
       "      <th>year_0_pred</th>\n",
       "      <th>pred_err</th>\n",
       "    </tr>\n",
       "  </thead>\n",
       "  <tbody>\n",
       "    <tr>\n",
       "      <th>1159</th>\n",
       "      <td>0.000829</td>\n",
       "      <td>0.005893</td>\n",
       "      <td>0.012384</td>\n",
       "      <td>0.016213</td>\n",
       "      <td>0.039430</td>\n",
       "      <td>0.023217</td>\n",
       "    </tr>\n",
       "    <tr>\n",
       "      <th>1159</th>\n",
       "      <td>0.005893</td>\n",
       "      <td>0.012384</td>\n",
       "      <td>0.016213</td>\n",
       "      <td>0.019146</td>\n",
       "      <td>0.043081</td>\n",
       "      <td>0.023934</td>\n",
       "    </tr>\n",
       "    <tr>\n",
       "      <th>1159</th>\n",
       "      <td>0.012384</td>\n",
       "      <td>0.016213</td>\n",
       "      <td>0.019146</td>\n",
       "      <td>0.021452</td>\n",
       "      <td>0.045047</td>\n",
       "      <td>0.023596</td>\n",
       "    </tr>\n",
       "    <tr>\n",
       "      <th>1159</th>\n",
       "      <td>0.016213</td>\n",
       "      <td>0.019146</td>\n",
       "      <td>0.021452</td>\n",
       "      <td>0.022643</td>\n",
       "      <td>0.046891</td>\n",
       "      <td>0.024248</td>\n",
       "    </tr>\n",
       "    <tr>\n",
       "      <th>1159</th>\n",
       "      <td>0.019146</td>\n",
       "      <td>0.021452</td>\n",
       "      <td>0.022643</td>\n",
       "      <td>0.022397</td>\n",
       "      <td>0.047747</td>\n",
       "      <td>0.025350</td>\n",
       "    </tr>\n",
       "  </tbody>\n",
       "</table>\n",
       "</div>"
      ],
      "text/plain": [
       "        year_3    year_2    year_1    year_0  year_0_pred  pred_err\n",
       "1159  0.000829  0.005893  0.012384  0.016213     0.039430  0.023217\n",
       "1159  0.005893  0.012384  0.016213  0.019146     0.043081  0.023934\n",
       "1159  0.012384  0.016213  0.019146  0.021452     0.045047  0.023596\n",
       "1159  0.016213  0.019146  0.021452  0.022643     0.046891  0.024248\n",
       "1159  0.019146  0.021452  0.022643  0.022397     0.047747  0.025350"
      ]
     },
     "execution_count": 22,
     "metadata": {},
     "output_type": "execute_result"
    }
   ],
   "source": [
    "## Provident Financial\n",
    "eval_node(\"providentfinancial\", test_reg)"
   ]
  },
  {
   "cell_type": "code",
   "execution_count": 23,
   "metadata": {},
   "outputs": [
    {
     "data": {
      "text/html": [
       "<div>\n",
       "<style scoped>\n",
       "    .dataframe tbody tr th:only-of-type {\n",
       "        vertical-align: middle;\n",
       "    }\n",
       "\n",
       "    .dataframe tbody tr th {\n",
       "        vertical-align: top;\n",
       "    }\n",
       "\n",
       "    .dataframe thead th {\n",
       "        text-align: right;\n",
       "    }\n",
       "</style>\n",
       "<table border=\"1\" class=\"dataframe\">\n",
       "  <thead>\n",
       "    <tr style=\"text-align: right;\">\n",
       "      <th></th>\n",
       "      <th>year_3</th>\n",
       "      <th>year_2</th>\n",
       "      <th>year_1</th>\n",
       "      <th>year_0</th>\n",
       "      <th>year_0_pred</th>\n",
       "      <th>pred_err</th>\n",
       "    </tr>\n",
       "  </thead>\n",
       "  <tbody>\n",
       "    <tr>\n",
       "      <th>5036</th>\n",
       "      <td>0.002239</td>\n",
       "      <td>0.006443</td>\n",
       "      <td>0.009655</td>\n",
       "      <td>0.011391</td>\n",
       "      <td>0.036491</td>\n",
       "      <td>0.025100</td>\n",
       "    </tr>\n",
       "    <tr>\n",
       "      <th>5036</th>\n",
       "      <td>0.006443</td>\n",
       "      <td>0.009655</td>\n",
       "      <td>0.011391</td>\n",
       "      <td>0.011027</td>\n",
       "      <td>0.037726</td>\n",
       "      <td>0.026699</td>\n",
       "    </tr>\n",
       "    <tr>\n",
       "      <th>5036</th>\n",
       "      <td>0.009655</td>\n",
       "      <td>0.011391</td>\n",
       "      <td>0.011027</td>\n",
       "      <td>0.010179</td>\n",
       "      <td>0.036880</td>\n",
       "      <td>0.026702</td>\n",
       "    </tr>\n",
       "    <tr>\n",
       "      <th>5036</th>\n",
       "      <td>0.011391</td>\n",
       "      <td>0.011027</td>\n",
       "      <td>0.010179</td>\n",
       "      <td>0.009462</td>\n",
       "      <td>0.035561</td>\n",
       "      <td>0.026099</td>\n",
       "    </tr>\n",
       "    <tr>\n",
       "      <th>5036</th>\n",
       "      <td>0.011027</td>\n",
       "      <td>0.010179</td>\n",
       "      <td>0.009462</td>\n",
       "      <td>0.009030</td>\n",
       "      <td>0.034799</td>\n",
       "      <td>0.025769</td>\n",
       "    </tr>\n",
       "  </tbody>\n",
       "</table>\n",
       "</div>"
      ],
      "text/plain": [
       "        year_3    year_2    year_1    year_0  year_0_pred  pred_err\n",
       "5036  0.002239  0.006443  0.009655  0.011391     0.036491  0.025100\n",
       "5036  0.006443  0.009655  0.011391  0.011027     0.037726  0.026699\n",
       "5036  0.009655  0.011391  0.011027  0.010179     0.036880  0.026702\n",
       "5036  0.011391  0.011027  0.010179  0.009462     0.035561  0.026099\n",
       "5036  0.011027  0.010179  0.009462  0.009030     0.034799  0.025769"
      ]
     },
     "execution_count": 23,
     "metadata": {},
     "output_type": "execute_result"
    }
   ],
   "source": [
    "## Cetelem\n",
    "eval_node(u\"cetelemčr\", test_reg)"
   ]
  },
  {
   "cell_type": "markdown",
   "metadata": {},
   "source": [
    "## Administrators"
   ]
  },
  {
   "cell_type": "code",
   "execution_count": 24,
   "metadata": {},
   "outputs": [
    {
     "data": {
      "text/html": [
       "<div>\n",
       "<style scoped>\n",
       "    .dataframe tbody tr th:only-of-type {\n",
       "        vertical-align: middle;\n",
       "    }\n",
       "\n",
       "    .dataframe tbody tr th {\n",
       "        vertical-align: top;\n",
       "    }\n",
       "\n",
       "    .dataframe thead th {\n",
       "        text-align: right;\n",
       "    }\n",
       "</style>\n",
       "<table border=\"1\" class=\"dataframe\">\n",
       "  <thead>\n",
       "    <tr style=\"text-align: right;\">\n",
       "      <th></th>\n",
       "      <th>year_3</th>\n",
       "      <th>year_2</th>\n",
       "      <th>year_1</th>\n",
       "      <th>year_0</th>\n",
       "      <th>year_0_pred</th>\n",
       "      <th>pred_err</th>\n",
       "    </tr>\n",
       "  </thead>\n",
       "  <tbody>\n",
       "    <tr>\n",
       "      <th>19</th>\n",
       "      <td>0.000175</td>\n",
       "      <td>0.000158</td>\n",
       "      <td>0.000141</td>\n",
       "      <td>0.000128</td>\n",
       "      <td>0.026566</td>\n",
       "      <td>0.026438</td>\n",
       "    </tr>\n",
       "    <tr>\n",
       "      <th>19</th>\n",
       "      <td>0.000158</td>\n",
       "      <td>0.000141</td>\n",
       "      <td>0.000128</td>\n",
       "      <td>0.000131</td>\n",
       "      <td>0.026554</td>\n",
       "      <td>0.026424</td>\n",
       "    </tr>\n",
       "    <tr>\n",
       "      <th>19</th>\n",
       "      <td>0.000141</td>\n",
       "      <td>0.000128</td>\n",
       "      <td>0.000131</td>\n",
       "      <td>0.000123</td>\n",
       "      <td>0.026559</td>\n",
       "      <td>0.026436</td>\n",
       "    </tr>\n",
       "    <tr>\n",
       "      <th>19</th>\n",
       "      <td>0.000128</td>\n",
       "      <td>0.000131</td>\n",
       "      <td>0.000123</td>\n",
       "      <td>0.000118</td>\n",
       "      <td>0.026556</td>\n",
       "      <td>0.026437</td>\n",
       "    </tr>\n",
       "    <tr>\n",
       "      <th>19</th>\n",
       "      <td>0.000131</td>\n",
       "      <td>0.000123</td>\n",
       "      <td>0.000118</td>\n",
       "      <td>0.000121</td>\n",
       "      <td>0.026549</td>\n",
       "      <td>0.026428</td>\n",
       "    </tr>\n",
       "  </tbody>\n",
       "</table>\n",
       "</div>"
      ],
      "text/plain": [
       "      year_3    year_2    year_1    year_0  year_0_pred  pred_err\n",
       "19  0.000175  0.000158  0.000141  0.000128     0.026566  0.026438\n",
       "19  0.000158  0.000141  0.000128  0.000131     0.026554  0.026424\n",
       "19  0.000141  0.000128  0.000131  0.000123     0.026559  0.026436\n",
       "19  0.000128  0.000131  0.000123  0.000118     0.026556  0.026437\n",
       "19  0.000131  0.000123  0.000118  0.000121     0.026549  0.026428"
      ]
     },
     "execution_count": 24,
     "metadata": {},
     "output_type": "execute_result"
    }
   ],
   "source": [
    "eval_node(u\"adm_5727\", test_reg)"
   ]
  },
  {
   "cell_type": "markdown",
   "metadata": {},
   "source": [
    "## Debtors"
   ]
  },
  {
   "cell_type": "code",
   "execution_count": 25,
   "metadata": {},
   "outputs": [
    {
     "data": {
      "text/html": [
       "<div>\n",
       "<style scoped>\n",
       "    .dataframe tbody tr th:only-of-type {\n",
       "        vertical-align: middle;\n",
       "    }\n",
       "\n",
       "    .dataframe tbody tr th {\n",
       "        vertical-align: top;\n",
       "    }\n",
       "\n",
       "    .dataframe thead th {\n",
       "        text-align: right;\n",
       "    }\n",
       "</style>\n",
       "<table border=\"1\" class=\"dataframe\">\n",
       "  <thead>\n",
       "    <tr style=\"text-align: right;\">\n",
       "      <th></th>\n",
       "      <th>year_3</th>\n",
       "      <th>year_2</th>\n",
       "      <th>year_1</th>\n",
       "      <th>year_0</th>\n",
       "      <th>year_0_pred</th>\n",
       "      <th>pred_err</th>\n",
       "    </tr>\n",
       "  </thead>\n",
       "  <tbody>\n",
       "    <tr>\n",
       "      <th>5447</th>\n",
       "      <td>0.000175</td>\n",
       "      <td>0.000158</td>\n",
       "      <td>0.000141</td>\n",
       "      <td>0.000128</td>\n",
       "      <td>0.026566</td>\n",
       "      <td>0.026438</td>\n",
       "    </tr>\n",
       "    <tr>\n",
       "      <th>5447</th>\n",
       "      <td>0.000158</td>\n",
       "      <td>0.000141</td>\n",
       "      <td>0.000128</td>\n",
       "      <td>0.000118</td>\n",
       "      <td>0.026554</td>\n",
       "      <td>0.026436</td>\n",
       "    </tr>\n",
       "    <tr>\n",
       "      <th>5447</th>\n",
       "      <td>0.000141</td>\n",
       "      <td>0.000128</td>\n",
       "      <td>0.000118</td>\n",
       "      <td>0.000111</td>\n",
       "      <td>0.026547</td>\n",
       "      <td>0.026436</td>\n",
       "    </tr>\n",
       "    <tr>\n",
       "      <th>5447</th>\n",
       "      <td>0.000128</td>\n",
       "      <td>0.000118</td>\n",
       "      <td>0.000111</td>\n",
       "      <td>0.000107</td>\n",
       "      <td>0.026542</td>\n",
       "      <td>0.026435</td>\n",
       "    </tr>\n",
       "    <tr>\n",
       "      <th>5447</th>\n",
       "      <td>0.000118</td>\n",
       "      <td>0.000111</td>\n",
       "      <td>0.000107</td>\n",
       "      <td>0.000109</td>\n",
       "      <td>0.026539</td>\n",
       "      <td>0.026430</td>\n",
       "    </tr>\n",
       "  </tbody>\n",
       "</table>\n",
       "</div>"
      ],
      "text/plain": [
       "        year_3    year_2    year_1    year_0  year_0_pred  pred_err\n",
       "5447  0.000175  0.000158  0.000141  0.000128     0.026566  0.026438\n",
       "5447  0.000158  0.000141  0.000128  0.000118     0.026554  0.026436\n",
       "5447  0.000141  0.000128  0.000118  0.000111     0.026547  0.026436\n",
       "5447  0.000128  0.000118  0.000111  0.000107     0.026542  0.026435\n",
       "5447  0.000118  0.000111  0.000107  0.000109     0.026539  0.026430"
      ]
     },
     "execution_count": 25,
     "metadata": {},
     "output_type": "execute_result"
    }
   ],
   "source": [
    "eval_node(u\"ksbrins3336/2013\", test_reg)"
   ]
  },
  {
   "cell_type": "code",
   "execution_count": null,
   "metadata": {},
   "outputs": [],
   "source": []
  }
 ],
 "metadata": {
  "kernelspec": {
   "display_name": "Python 2",
   "language": "python",
   "name": "python2"
  },
  "language_info": {
   "codemirror_mode": {
    "name": "ipython",
    "version": 2
   },
   "file_extension": ".py",
   "mimetype": "text/x-python",
   "name": "python",
   "nbconvert_exporter": "python",
   "pygments_lexer": "ipython2",
   "version": "2.7.10"
  }
 },
 "nbformat": 4,
 "nbformat_minor": 2
}
