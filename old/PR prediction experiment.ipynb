{
 "cells": [
  {
   "cell_type": "code",
   "execution_count": 1,
   "metadata": {},
   "outputs": [],
   "source": [
    "import pandas as pd\n",
    "import json\n",
    "import numpy as np\n",
    "from collections import OrderedDict\n",
    "from sklearn import linear_model\n",
    "from sklearn.neural_network import MLPRegressor\n",
    "from sklearn.metrics import mean_squared_error, r2_score, mean_absolute_error\n",
    "from sklearn.model_selection import train_test_split, KFold\n",
    "from sklearn.preprocessing import MinMaxScaler, LabelBinarizer\n",
    "from imblearn.over_sampling.random_over_sampler import RandomOverSampler\n",
    "import matplotlib.pyplot as plt\n",
    "import seaborn\n",
    "\n",
    "seaborn.set_style(\"dark\")\n",
    "\n",
    "%matplotlib inline"
   ]
  },
  {
   "cell_type": "code",
   "execution_count": 2,
   "metadata": {},
   "outputs": [],
   "source": [
    "yearly_prs = []\n",
    "insolvency_data = []\n",
    "for line in open(\"../data/evolving_pagerank_large_graph_yearly_experiment.jsonline\"):\n",
    "    record = json.loads(line)\n",
    "    yearly_prs += [dict(record[\"pr\"])]\n",
    "    insolvency_data += [{\"id\": record[\"id\"], \"stringId\": record[\"stringId\"], \"nodeType\": record[\"nodeType\"]}]\n",
    "yearly_prs_df = pd.DataFrame(yearly_prs)\n",
    "insolvency_data_df = pd.DataFrame(insolvency_data)\n",
    "assert yearly_prs_df.shape[0] == insolvency_data_df.shape[0]"
   ]
  },
  {
   "cell_type": "code",
   "execution_count": 3,
   "metadata": {},
   "outputs": [],
   "source": [
    "yearly_prs_df = yearly_prs_df.drop([2008, 2009, 2010], axis=1)"
   ]
  },
  {
   "cell_type": "markdown",
   "metadata": {},
   "source": [
    "## Preprocessing"
   ]
  },
  {
   "cell_type": "code",
   "execution_count": 4,
   "metadata": {},
   "outputs": [],
   "source": [
    "def rolling_window(a, window):\n",
    "    shape = a.shape[:-1] + (a.shape[-1] - window + 1, window)\n",
    "    strides = a.strides + (a.strides[-1],)\n",
    "    return np.lib.stride_tricks.as_strided(a, shape=shape, strides=strides)"
   ]
  },
  {
   "cell_type": "code",
   "execution_count": 5,
   "metadata": {},
   "outputs": [],
   "source": [
    "WINDOW_SIZE = 4\n",
    "dataset_df = pd.DataFrame()\n",
    "dataset_insdata_df = pd.DataFrame()\n",
    "for window in rolling_window(yearly_prs_df.columns, WINDOW_SIZE):\n",
    "    features = yearly_prs_df[window[:WINDOW_SIZE - 1]]\n",
    "    features.columns = np.array(\n",
    "        map(lambda idx: \"year_{}\".format(idx), reversed(range(1, len(window[:-1]) + 1)))\n",
    "    )\n",
    "    \n",
    "    pred = yearly_prs_df[[window[-1]]]\n",
    "    pred.columns = np.array([\"year_0\"])\n",
    "    dataset_df = dataset_df.append(pd.concat([features, pred], axis=1))\n",
    "    dataset_insdata_df = dataset_insdata_df.append(insolvency_data_df)\n",
    "    \n",
    "assert dataset_insdata_df.shape[0] == dataset_df.shape[0]"
   ]
  },
  {
   "cell_type": "code",
   "execution_count": 6,
   "metadata": {},
   "outputs": [],
   "source": [
    "scaler = MinMaxScaler(feature_range=(-1, 1))"
   ]
  },
  {
   "cell_type": "code",
   "execution_count": 7,
   "metadata": {},
   "outputs": [],
   "source": [
    "X = dataset_df.drop(\"year_0\", axis=1)\n",
    "y = dataset_df[[\"year_0\"]]"
   ]
  },
  {
   "cell_type": "code",
   "execution_count": 8,
   "metadata": {},
   "outputs": [
    {
     "data": {
      "text/plain": [
       "Text(0.5,1,'Histogram of raw values')"
      ]
     },
     "execution_count": 8,
     "metadata": {},
     "output_type": "execute_result"
    },
    {
     "data": {
      "image/png": "[encoded data removed]",
      "text/plain": [
       "<Figure size 432x288 with 1 Axes>"
      ]
     },
     "metadata": {},
     "output_type": "display_data"
    }
   ],
   "source": [
    "_ = plt.hist(y.values, 20)\n",
    "plt.title(\"Histogram of raw values\")"
   ]
  },
  {
   "cell_type": "code",
   "execution_count": 9,
   "metadata": {},
   "outputs": [],
   "source": [
    "X = scaler.fit_transform(X)\n",
    "y = scaler.fit_transform(y)"
   ]
  },
  {
   "cell_type": "code",
   "execution_count": 10,
   "metadata": {},
   "outputs": [
    {
     "data": {
      "text/plain": [
       "Text(0.5,1,'Histogram of values after 0-1 rescaling')"
      ]
     },
     "execution_count": 10,
     "metadata": {},
     "output_type": "execute_result"
    },
    {
     "data": {
      "image/png": "[encoded data removed]",
      "text/plain": [
       "<Figure size 432x288 with 1 Axes>"
      ]
     },
     "metadata": {},
     "output_type": "display_data"
    }
   ],
   "source": [
    "_ = plt.hist(y, 20)\n",
    "plt.title(\"Histogram of values after 0-1 rescaling\")"
   ]
  },
  {
   "cell_type": "code",
   "execution_count": 11,
   "metadata": {},
   "outputs": [],
   "source": [
    "apply_sigmoid_func = np.vectorize(lambda x: 1 / (1 + np.exp(-4 * x)))\n",
    "\n",
    "X = apply_sigmoid_func(X)\n",
    "y = apply_sigmoid_func(y)"
   ]
  },
  {
   "cell_type": "code",
   "execution_count": 12,
   "metadata": {},
   "outputs": [
    {
     "data": {
      "text/plain": [
       "Text(0.5,1,'Histogram of values after applying the sigmoid function')"
      ]
     },
     "execution_count": 12,
     "metadata": {},
     "output_type": "execute_result"
    },
    {
     "data": {
      "image/png": "[encoded data removed]",
      "text/plain": [
       "<Figure size 432x288 with 1 Axes>"
      ]
     },
     "metadata": {},
     "output_type": "display_data"
    }
   ],
   "source": [
    "_ = plt.hist(y, 20)\n",
    "plt.title(\"Histogram of values after applying the sigmoid function\")"
   ]
  },
  {
   "cell_type": "code",
   "execution_count": 13,
   "metadata": {},
   "outputs": [],
   "source": [
    "# y = y.ravel()\n",
    "# ros = RandomOverSampler()\n",
    "# y_disc = np.digitize(y, np.arange(0, 1, 0.05))\n",
    "\n",
    "# Xy = np.column_stack((X, y))\n",
    "# Xy_resampled, y_resampled = ros.fit_sample(Xy, y_disc)\n",
    "\n",
    "# X = Xy_resampled[:,0:3]\n",
    "# y = Xy_resampled[:,3:4].T[0]\n",
    "\n",
    "# _ = plt.hist(y, 20)\n",
    "# plt.title(\"Histogram of values after oversampling smaller classes\")"
   ]
  },
  {
   "cell_type": "markdown",
   "metadata": {},
   "source": [
    "## Model fitting"
   ]
  },
  {
   "cell_type": "code",
   "execution_count": 14,
   "metadata": {},
   "outputs": [],
   "source": [
    "model_factory = [(\"simple_lr\", lambda: linear_model.LinearRegression()),\n",
    "                 (\"mlp_single_layer_10\", lambda: MLPRegressor(hidden_layer_sizes=(10,), activation=\"logistic\", alpha=0.001, early_stopping=True, max_iter=10000)),\n",
    "                 (\"mlp_single_layer_20\", lambda: MLPRegressor(hidden_layer_sizes=(20,), activation=\"logistic\", alpha=0.001, early_stopping=True, max_iter=10000)),\n",
    "                 (\"mlp_single_layer_30\", lambda: MLPRegressor(hidden_layer_sizes=(30,), activation=\"logistic\", alpha=0.001, early_stopping=True, max_iter=10000)),\n",
    "                 (\"mlp_two_layer_10_10\", lambda: MLPRegressor(hidden_layer_sizes=(10, 5), activation=\"logistic\", alpha=0.001, early_stopping=True, max_iter=10000)),\n",
    "                 (\"mlp_two_layer_20_20\", lambda: MLPRegressor(hidden_layer_sizes=(20, 10), activation=\"logistic\", alpha=0.001, early_stopping=True, max_iter=10000)),\n",
    "                 (\"mlp_two_layer_30_30\", lambda: MLPRegressor(hidden_layer_sizes=(30, 15), activation=\"logistic\", alpha=0.001, early_stopping=True, max_iter=10000)),\n",
    "                ]"
   ]
  },
  {
   "cell_type": "markdown",
   "metadata": {},
   "source": [
    "### Basic model"
   ]
  },
  {
   "cell_type": "code",
   "execution_count": 15,
   "metadata": {},
   "outputs": [
    {
     "name": "stdout",
     "output_type": "stream",
     "text": [
      "Fitting split 0\n",
      "\tFitting model: simple_lr\n",
      "\tFitting model: mlp_single_layer_10\n"
     ]
    },
    {
     "name": "stderr",
     "output_type": "stream",
     "text": [
      "/Users/peterzvirinsky/Envs/GraphSlices/lib/python2.7/site-packages/sklearn/linear_model/base.py:509: RuntimeWarning: internal gelsd driver lwork query error, required iwork dimension not returned. This is likely the result of LAPACK bug 0038, fixed in LAPACK 3.2.2 (released July 21, 2010). Falling back to 'gelss' driver.\n",
      "  linalg.lstsq(X, y)\n",
      "/Users/peterzvirinsky/Envs/GraphSlices/lib/python2.7/site-packages/sklearn/neural_network/multilayer_perceptron.py:1306: DataConversionWarning: A column-vector y was passed when a 1d array was expected. Please change the shape of y to (n_samples, ), for example using ravel().\n",
      "  y = column_or_1d(y, warn=True)\n"
     ]
    },
    {
     "name": "stdout",
     "output_type": "stream",
     "text": [
      "\tFitting model: mlp_single_layer_20\n",
      "\tFitting model: mlp_single_layer_30\n",
      "\tFitting model: mlp_two_layer_10_10\n",
      "\tFitting model: mlp_two_layer_20_20\n",
      "\tFitting model: mlp_two_layer_30_30\n",
      "Fitting split 1\n",
      "\tFitting model: simple_lr\n",
      "\tFitting model: mlp_single_layer_10\n",
      "\tFitting model: mlp_single_layer_20\n",
      "\tFitting model: mlp_single_layer_30\n",
      "\tFitting model: mlp_two_layer_10_10\n",
      "\tFitting model: mlp_two_layer_20_20\n",
      "\tFitting model: mlp_two_layer_30_30\n",
      "Fitting split 2\n",
      "\tFitting model: simple_lr\n",
      "\tFitting model: mlp_single_layer_10\n",
      "\tFitting model: mlp_single_layer_20\n",
      "\tFitting model: mlp_single_layer_30\n",
      "\tFitting model: mlp_two_layer_10_10\n",
      "\tFitting model: mlp_two_layer_20_20\n",
      "\tFitting model: mlp_two_layer_30_30\n",
      "Fitting split 3\n",
      "\tFitting model: simple_lr\n",
      "\tFitting model: mlp_single_layer_10\n",
      "\tFitting model: mlp_single_layer_20\n",
      "\tFitting model: mlp_single_layer_30\n",
      "\tFitting model: mlp_two_layer_10_10\n",
      "\tFitting model: mlp_two_layer_20_20\n",
      "\tFitting model: mlp_two_layer_30_30\n",
      "Fitting split 4\n",
      "\tFitting model: simple_lr\n",
      "\tFitting model: mlp_single_layer_10\n",
      "\tFitting model: mlp_single_layer_20\n",
      "\tFitting model: mlp_single_layer_30\n",
      "\tFitting model: mlp_two_layer_10_10\n",
      "\tFitting model: mlp_two_layer_20_20\n",
      "\tFitting model: mlp_two_layer_30_30\n"
     ]
    }
   ],
   "source": [
    "kf = KFold(n_splits=5)\n",
    "stats_dict = OrderedDict()\n",
    "models_dict = OrderedDict()\n",
    "for split_idx, (train, test) in enumerate(kf.split(X)):\n",
    "    train_X = X[train]\n",
    "    train_y = y[train]\n",
    "    test_X = X[test]\n",
    "    test_y = y[test]\n",
    "    \n",
    "    models_dict[split_idx] = {}\n",
    "    print(\"Fitting split {}\".format(split_idx))\n",
    "    for name, model_builder in model_factory:\n",
    "        print(\"\\tFitting model: {}\".format(name))\n",
    "        stats_df = stats_dict.get(name, pd.DataFrame())\n",
    "        reg = model_builder()\n",
    "        reg.fit(train_X, train_y)\n",
    "        pred_y = reg.predict(test_X)\n",
    "        \n",
    "        models_dict[split_idx][name] = reg\n",
    "        stats_df = stats_df.append(pd.DataFrame(\n",
    "            [{\"mse\": mean_squared_error(test_y, pred_y),\n",
    "              \"mae\": mean_absolute_error(test_y, pred_y),\n",
    "              \"r2\": r2_score(test_y, pred_y)\n",
    "             }]), ignore_index=True)\n",
    "        stats_dict[name] = stats_df\n",
    "\n",
    "names, stats = zip(*stats_dict.items())\n",
    "stats_df = pd.concat(stats, keys=names, axis=1)"
   ]
  },
  {
   "cell_type": "markdown",
   "metadata": {},
   "source": [
    "## Evaluation"
   ]
  },
  {
   "cell_type": "code",
   "execution_count": 16,
   "metadata": {},
   "outputs": [
    {
     "data": {
      "image/png": "[encoded data removed]",
      "text/plain": [
       "<Figure size 864x216 with 1 Axes>"
      ]
     },
     "metadata": {},
     "output_type": "display_data"
    }
   ],
   "source": [
    "ax = stats_df.mean(axis=0)[:, \"mae\"].plot(kind=\"bar\", yerr=stats_df.std(axis=0)[:, \"mae\"], figsize=(12,3), fontsize=16)\n",
    "ax.set_title(\"Mean absolute error and std\", fontsize=18);"
   ]
  },
  {
   "cell_type": "code",
   "execution_count": 17,
   "metadata": {},
   "outputs": [
    {
     "data": {
      "text/html": [
       "<div>\n",
       "<style scoped>\n",
       "    .dataframe tbody tr th:only-of-type {\n",
       "        vertical-align: middle;\n",
       "    }\n",
       "\n",
       "    .dataframe tbody tr th {\n",
       "        vertical-align: top;\n",
       "    }\n",
       "\n",
       "    .dataframe thead th {\n",
       "        text-align: right;\n",
       "    }\n",
       "</style>\n",
       "<table border=\"1\" class=\"dataframe\">\n",
       "  <thead>\n",
       "    <tr style=\"text-align: right;\">\n",
       "      <th></th>\n",
       "      <th></th>\n",
       "      <th>mean</th>\n",
       "      <th>std</th>\n",
       "    </tr>\n",
       "  </thead>\n",
       "  <tbody>\n",
       "    <tr>\n",
       "      <th rowspan=\"3\" valign=\"top\">simple_lr</th>\n",
       "      <th>mae</th>\n",
       "      <td>0.000163</td>\n",
       "      <td>0.000024</td>\n",
       "    </tr>\n",
       "    <tr>\n",
       "      <th>mse</th>\n",
       "      <td>0.000004</td>\n",
       "      <td>0.000002</td>\n",
       "    </tr>\n",
       "    <tr>\n",
       "      <th>r2</th>\n",
       "      <td>0.993262</td>\n",
       "      <td>0.004594</td>\n",
       "    </tr>\n",
       "    <tr>\n",
       "      <th rowspan=\"3\" valign=\"top\">mlp_single_layer_10</th>\n",
       "      <th>mae</th>\n",
       "      <td>0.000602</td>\n",
       "      <td>0.000172</td>\n",
       "    </tr>\n",
       "    <tr>\n",
       "      <th>mse</th>\n",
       "      <td>0.000048</td>\n",
       "      <td>0.000048</td>\n",
       "    </tr>\n",
       "    <tr>\n",
       "      <th>r2</th>\n",
       "      <td>0.920756</td>\n",
       "      <td>0.090236</td>\n",
       "    </tr>\n",
       "    <tr>\n",
       "      <th rowspan=\"3\" valign=\"top\">mlp_single_layer_20</th>\n",
       "      <th>mae</th>\n",
       "      <td>0.000634</td>\n",
       "      <td>0.000344</td>\n",
       "    </tr>\n",
       "    <tr>\n",
       "      <th>mse</th>\n",
       "      <td>0.000048</td>\n",
       "      <td>0.000065</td>\n",
       "    </tr>\n",
       "    <tr>\n",
       "      <th>r2</th>\n",
       "      <td>0.917155</td>\n",
       "      <td>0.124067</td>\n",
       "    </tr>\n",
       "    <tr>\n",
       "      <th rowspan=\"3\" valign=\"top\">mlp_single_layer_30</th>\n",
       "      <th>mae</th>\n",
       "      <td>0.000599</td>\n",
       "      <td>0.000294</td>\n",
       "    </tr>\n",
       "    <tr>\n",
       "      <th>mse</th>\n",
       "      <td>0.000066</td>\n",
       "      <td>0.000086</td>\n",
       "    </tr>\n",
       "    <tr>\n",
       "      <th>r2</th>\n",
       "      <td>0.885808</td>\n",
       "      <td>0.163956</td>\n",
       "    </tr>\n",
       "    <tr>\n",
       "      <th rowspan=\"3\" valign=\"top\">mlp_two_layer_10_10</th>\n",
       "      <th>mae</th>\n",
       "      <td>0.001028</td>\n",
       "      <td>0.000889</td>\n",
       "    </tr>\n",
       "    <tr>\n",
       "      <th>mse</th>\n",
       "      <td>0.000173</td>\n",
       "      <td>0.000279</td>\n",
       "    </tr>\n",
       "    <tr>\n",
       "      <th>r2</th>\n",
       "      <td>0.728428</td>\n",
       "      <td>0.422658</td>\n",
       "    </tr>\n",
       "    <tr>\n",
       "      <th rowspan=\"3\" valign=\"top\">mlp_two_layer_20_20</th>\n",
       "      <th>mae</th>\n",
       "      <td>0.000846</td>\n",
       "      <td>0.000190</td>\n",
       "    </tr>\n",
       "    <tr>\n",
       "      <th>mse</th>\n",
       "      <td>0.000063</td>\n",
       "      <td>0.000083</td>\n",
       "    </tr>\n",
       "    <tr>\n",
       "      <th>r2</th>\n",
       "      <td>0.891899</td>\n",
       "      <td>0.159041</td>\n",
       "    </tr>\n",
       "    <tr>\n",
       "      <th rowspan=\"3\" valign=\"top\">mlp_two_layer_30_30</th>\n",
       "      <th>mae</th>\n",
       "      <td>0.000702</td>\n",
       "      <td>0.000302</td>\n",
       "    </tr>\n",
       "    <tr>\n",
       "      <th>mse</th>\n",
       "      <td>0.000053</td>\n",
       "      <td>0.000054</td>\n",
       "    </tr>\n",
       "    <tr>\n",
       "      <th>r2</th>\n",
       "      <td>0.912362</td>\n",
       "      <td>0.103823</td>\n",
       "    </tr>\n",
       "  </tbody>\n",
       "</table>\n",
       "</div>"
      ],
      "text/plain": [
       "                             mean       std\n",
       "simple_lr           mae  0.000163  0.000024\n",
       "                    mse  0.000004  0.000002\n",
       "                    r2   0.993262  0.004594\n",
       "mlp_single_layer_10 mae  0.000602  0.000172\n",
       "                    mse  0.000048  0.000048\n",
       "                    r2   0.920756  0.090236\n",
       "mlp_single_layer_20 mae  0.000634  0.000344\n",
       "                    mse  0.000048  0.000065\n",
       "                    r2   0.917155  0.124067\n",
       "mlp_single_layer_30 mae  0.000599  0.000294\n",
       "                    mse  0.000066  0.000086\n",
       "                    r2   0.885808  0.163956\n",
       "mlp_two_layer_10_10 mae  0.001028  0.000889\n",
       "                    mse  0.000173  0.000279\n",
       "                    r2   0.728428  0.422658\n",
       "mlp_two_layer_20_20 mae  0.000846  0.000190\n",
       "                    mse  0.000063  0.000083\n",
       "                    r2   0.891899  0.159041\n",
       "mlp_two_layer_30_30 mae  0.000702  0.000302\n",
       "                    mse  0.000053  0.000054\n",
       "                    r2   0.912362  0.103823"
      ]
     },
     "execution_count": 17,
     "metadata": {},
     "output_type": "execute_result"
    }
   ],
   "source": [
    "stats_df.mean(axis=0).to_frame(name=\"mean\").merge(\n",
    "    stats_df.std(axis=0).to_frame(\"std\"), left_index=True, right_index=True\n",
    ")"
   ]
  },
  {
   "cell_type": "code",
   "execution_count": 18,
   "metadata": {},
   "outputs": [],
   "source": [
    "test_reg = models_dict[1][\"mlp_two_layer_30_30\"]\n",
    "SIZE = 50\n",
    "X_plot = np.array([[0.016947, 0.020687],] * SIZE)\n",
    "plot_dim_x = np.linspace(0., 0.2, SIZE)\n",
    "X_plot = np.column_stack((X_plot, plot_dim_x))\n",
    "y_plot = test_reg.predict(X_plot)"
   ]
  },
  {
   "cell_type": "code",
   "execution_count": 19,
   "metadata": {},
   "outputs": [
    {
     "data": {
      "text/plain": [
       "[<matplotlib.lines.Line2D at 0x10d484950>]"
      ]
     },
     "execution_count": 19,
     "metadata": {},
     "output_type": "execute_result"
    },
    {
     "data": {
      "image/png": "[encoded data removed]",
      "text/plain": [
       "<Figure size 432x288 with 1 Axes>"
      ]
     },
     "metadata": {},
     "output_type": "display_data"
    }
   ],
   "source": [
    "plt.plot(plot_dim_x, y_plot)"
   ]
  },
  {
   "cell_type": "code",
   "execution_count": null,
   "metadata": {},
   "outputs": [],
   "source": []
  },
  {
   "cell_type": "markdown",
   "metadata": {},
   "source": [
    "### Adding nodeType"
   ]
  },
  {
   "cell_type": "code",
   "execution_count": 20,
   "metadata": {},
   "outputs": [],
   "source": [
    "lb = LabelBinarizer()\n",
    "features_node_type = lb.fit_transform(dataset_insdata_df.nodeType)\n",
    "assert features_node_type.shape[0] == X.shape[0]\n",
    "\n",
    "X_w_node_type = np.hstack((X, features_node_type))"
   ]
  },
  {
   "cell_type": "code",
   "execution_count": 21,
   "metadata": {},
   "outputs": [
    {
     "name": "stdout",
     "output_type": "stream",
     "text": [
      "Fitting split 0\n",
      "\tFitting model: simple_lr\n",
      "\tFitting model: mlp_single_layer_10\n",
      "\tFitting model: mlp_single_layer_20\n",
      "\tFitting model: mlp_single_layer_30\n",
      "\tFitting model: mlp_two_layer_10_10\n",
      "\tFitting model: mlp_two_layer_20_20\n",
      "\tFitting model: mlp_two_layer_30_30\n",
      "Fitting split 1\n",
      "\tFitting model: simple_lr\n",
      "\tFitting model: mlp_single_layer_10\n",
      "\tFitting model: mlp_single_layer_20\n",
      "\tFitting model: mlp_single_layer_30\n",
      "\tFitting model: mlp_two_layer_10_10\n",
      "\tFitting model: mlp_two_layer_20_20\n",
      "\tFitting model: mlp_two_layer_30_30\n",
      "Fitting split 2\n",
      "\tFitting model: simple_lr\n",
      "\tFitting model: mlp_single_layer_10\n",
      "\tFitting model: mlp_single_layer_20\n",
      "\tFitting model: mlp_single_layer_30\n",
      "\tFitting model: mlp_two_layer_10_10\n",
      "\tFitting model: mlp_two_layer_20_20\n",
      "\tFitting model: mlp_two_layer_30_30\n",
      "Fitting split 3\n",
      "\tFitting model: simple_lr\n",
      "\tFitting model: mlp_single_layer_10\n",
      "\tFitting model: mlp_single_layer_20\n",
      "\tFitting model: mlp_single_layer_30\n",
      "\tFitting model: mlp_two_layer_10_10\n",
      "\tFitting model: mlp_two_layer_20_20\n",
      "\tFitting model: mlp_two_layer_30_30\n",
      "Fitting split 4\n",
      "\tFitting model: simple_lr\n",
      "\tFitting model: mlp_single_layer_10\n",
      "\tFitting model: mlp_single_layer_20\n",
      "\tFitting model: mlp_single_layer_30\n",
      "\tFitting model: mlp_two_layer_10_10\n",
      "\tFitting model: mlp_two_layer_20_20\n",
      "\tFitting model: mlp_two_layer_30_30\n"
     ]
    }
   ],
   "source": [
    "kf = KFold(n_splits=5)\n",
    "stats_dict = OrderedDict()\n",
    "models_dict = OrderedDict()\n",
    "for split_idx, (train, test) in enumerate(kf.split(X_w_node_type)):\n",
    "    train_X = X_w_node_type[train]\n",
    "    train_y = y[train]\n",
    "    test_X = X_w_node_type[test]\n",
    "    test_y = y[test]\n",
    "    \n",
    "    models_dict[split_idx] = {}\n",
    "    print(\"Fitting split {}\".format(split_idx))\n",
    "    for name, model_builder in model_factory:\n",
    "        print(\"\\tFitting model: {}\".format(name))\n",
    "        stats_df = stats_dict.get(name, pd.DataFrame())\n",
    "        reg = model_builder()\n",
    "        reg.fit(train_X, train_y)\n",
    "        pred_y = reg.predict(test_X)\n",
    "        \n",
    "        models_dict[split_idx][name] = reg\n",
    "        stats_df = stats_df.append(pd.DataFrame(\n",
    "            [{\"mse\": mean_squared_error(test_y, pred_y),\n",
    "              \"mae\": mean_absolute_error(test_y, pred_y),\n",
    "              \"r2\": r2_score(test_y, pred_y)\n",
    "             }]), ignore_index=True)\n",
    "        stats_dict[name] = stats_df\n",
    "\n",
    "names, stats = zip(*stats_dict.items())\n",
    "stats_df = pd.concat(stats, keys=names, axis=1)"
   ]
  },
  {
   "cell_type": "code",
   "execution_count": 23,
   "metadata": {},
   "outputs": [
    {
     "data": {
      "image/png": "[encoded data removed]",
      "text/plain": [
       "<Figure size 864x216 with 1 Axes>"
      ]
     },
     "metadata": {},
     "output_type": "display_data"
    }
   ],
   "source": [
    "ax = stats_df.mean(axis=0)[:, \"mae\"].plot(kind=\"bar\", yerr=stats_df.std(axis=0)[:, \"mae\"], figsize=(12,3), fontsize=16)\n",
    "ax.set_title(\"Mean absolute error and std\", fontsize=18);"
   ]
  },
  {
   "cell_type": "code",
   "execution_count": 24,
   "metadata": {},
   "outputs": [
    {
     "data": {
      "text/html": [
       "<div>\n",
       "<style scoped>\n",
       "    .dataframe tbody tr th:only-of-type {\n",
       "        vertical-align: middle;\n",
       "    }\n",
       "\n",
       "    .dataframe tbody tr th {\n",
       "        vertical-align: top;\n",
       "    }\n",
       "\n",
       "    .dataframe thead th {\n",
       "        text-align: right;\n",
       "    }\n",
       "</style>\n",
       "<table border=\"1\" class=\"dataframe\">\n",
       "  <thead>\n",
       "    <tr style=\"text-align: right;\">\n",
       "      <th></th>\n",
       "      <th></th>\n",
       "      <th>mean</th>\n",
       "      <th>std</th>\n",
       "    </tr>\n",
       "  </thead>\n",
       "  <tbody>\n",
       "    <tr>\n",
       "      <th rowspan=\"3\" valign=\"top\">simple_lr</th>\n",
       "      <th>mae</th>\n",
       "      <td>0.000161</td>\n",
       "      <td>0.000049</td>\n",
       "    </tr>\n",
       "    <tr>\n",
       "      <th>mse</th>\n",
       "      <td>0.000004</td>\n",
       "      <td>0.000002</td>\n",
       "    </tr>\n",
       "    <tr>\n",
       "      <th>r2</th>\n",
       "      <td>0.993283</td>\n",
       "      <td>0.004452</td>\n",
       "    </tr>\n",
       "    <tr>\n",
       "      <th rowspan=\"3\" valign=\"top\">mlp_single_layer_10</th>\n",
       "      <th>mae</th>\n",
       "      <td>0.000799</td>\n",
       "      <td>0.000433</td>\n",
       "    </tr>\n",
       "    <tr>\n",
       "      <th>mse</th>\n",
       "      <td>0.000127</td>\n",
       "      <td>0.000173</td>\n",
       "    </tr>\n",
       "    <tr>\n",
       "      <th>r2</th>\n",
       "      <td>0.811674</td>\n",
       "      <td>0.239794</td>\n",
       "    </tr>\n",
       "    <tr>\n",
       "      <th rowspan=\"3\" valign=\"top\">mlp_single_layer_20</th>\n",
       "      <th>mae</th>\n",
       "      <td>0.001206</td>\n",
       "      <td>0.000735</td>\n",
       "    </tr>\n",
       "    <tr>\n",
       "      <th>mse</th>\n",
       "      <td>0.000208</td>\n",
       "      <td>0.000325</td>\n",
       "    </tr>\n",
       "    <tr>\n",
       "      <th>r2</th>\n",
       "      <td>0.709931</td>\n",
       "      <td>0.415934</td>\n",
       "    </tr>\n",
       "    <tr>\n",
       "      <th rowspan=\"3\" valign=\"top\">mlp_single_layer_30</th>\n",
       "      <th>mae</th>\n",
       "      <td>0.001186</td>\n",
       "      <td>0.000870</td>\n",
       "    </tr>\n",
       "    <tr>\n",
       "      <th>mse</th>\n",
       "      <td>0.000186</td>\n",
       "      <td>0.000240</td>\n",
       "    </tr>\n",
       "    <tr>\n",
       "      <th>r2</th>\n",
       "      <td>0.692470</td>\n",
       "      <td>0.395085</td>\n",
       "    </tr>\n",
       "    <tr>\n",
       "      <th rowspan=\"3\" valign=\"top\">mlp_two_layer_10_10</th>\n",
       "      <th>mae</th>\n",
       "      <td>0.001594</td>\n",
       "      <td>0.001101</td>\n",
       "    </tr>\n",
       "    <tr>\n",
       "      <th>mse</th>\n",
       "      <td>0.000348</td>\n",
       "      <td>0.000251</td>\n",
       "    </tr>\n",
       "    <tr>\n",
       "      <th>r2</th>\n",
       "      <td>0.496319</td>\n",
       "      <td>0.344020</td>\n",
       "    </tr>\n",
       "    <tr>\n",
       "      <th rowspan=\"3\" valign=\"top\">mlp_two_layer_20_20</th>\n",
       "      <th>mae</th>\n",
       "      <td>0.000823</td>\n",
       "      <td>0.000337</td>\n",
       "    </tr>\n",
       "    <tr>\n",
       "      <th>mse</th>\n",
       "      <td>0.000060</td>\n",
       "      <td>0.000059</td>\n",
       "    </tr>\n",
       "    <tr>\n",
       "      <th>r2</th>\n",
       "      <td>0.900531</td>\n",
       "      <td>0.116703</td>\n",
       "    </tr>\n",
       "    <tr>\n",
       "      <th rowspan=\"3\" valign=\"top\">mlp_two_layer_30_30</th>\n",
       "      <th>mae</th>\n",
       "      <td>0.000779</td>\n",
       "      <td>0.000204</td>\n",
       "    </tr>\n",
       "    <tr>\n",
       "      <th>mse</th>\n",
       "      <td>0.000060</td>\n",
       "      <td>0.000046</td>\n",
       "    </tr>\n",
       "    <tr>\n",
       "      <th>r2</th>\n",
       "      <td>0.902187</td>\n",
       "      <td>0.092261</td>\n",
       "    </tr>\n",
       "  </tbody>\n",
       "</table>\n",
       "</div>"
      ],
      "text/plain": [
       "                             mean       std\n",
       "simple_lr           mae  0.000161  0.000049\n",
       "                    mse  0.000004  0.000002\n",
       "                    r2   0.993283  0.004452\n",
       "mlp_single_layer_10 mae  0.000799  0.000433\n",
       "                    mse  0.000127  0.000173\n",
       "                    r2   0.811674  0.239794\n",
       "mlp_single_layer_20 mae  0.001206  0.000735\n",
       "                    mse  0.000208  0.000325\n",
       "                    r2   0.709931  0.415934\n",
       "mlp_single_layer_30 mae  0.001186  0.000870\n",
       "                    mse  0.000186  0.000240\n",
       "                    r2   0.692470  0.395085\n",
       "mlp_two_layer_10_10 mae  0.001594  0.001101\n",
       "                    mse  0.000348  0.000251\n",
       "                    r2   0.496319  0.344020\n",
       "mlp_two_layer_20_20 mae  0.000823  0.000337\n",
       "                    mse  0.000060  0.000059\n",
       "                    r2   0.900531  0.116703\n",
       "mlp_two_layer_30_30 mae  0.000779  0.000204\n",
       "                    mse  0.000060  0.000046\n",
       "                    r2   0.902187  0.092261"
      ]
     },
     "execution_count": 24,
     "metadata": {},
     "output_type": "execute_result"
    }
   ],
   "source": [
    "stats_df.mean(axis=0).to_frame(name=\"mean\").merge(\n",
    "    stats_df.std(axis=0).to_frame(\"std\"), left_index=True, right_index=True\n",
    ")"
   ]
  },
  {
   "cell_type": "markdown",
   "metadata": {},
   "source": [
    "### Clustering"
   ]
  },
  {
   "cell_type": "code",
   "execution_count": 25,
   "metadata": {},
   "outputs": [
    {
     "data": {
      "text/plain": [
       "<matplotlib.axes._subplots.AxesSubplot at 0x111dca250>"
      ]
     },
     "execution_count": 25,
     "metadata": {},
     "output_type": "execute_result"
    },
    {
     "data": {
      "image/png": "[encoded data removed]",
      "text/plain": [
       "<Figure size 432x288 with 1 Axes>"
      ]
     },
     "metadata": {},
     "output_type": "display_data"
    }
   ],
   "source": [
    "from sklearn.cluster import KMeans\n",
    "kmeans = KMeans(5)\n",
    "clusters = kmeans.fit_predict(X)\n",
    "pd.Series(clusters).hist()"
   ]
  },
  {
   "cell_type": "code",
   "execution_count": null,
   "metadata": {},
   "outputs": [],
   "source": []
  },
  {
   "cell_type": "markdown",
   "metadata": {},
   "source": [
    "# Individual evaluation"
   ]
  },
  {
   "cell_type": "code",
   "execution_count": null,
   "metadata": {},
   "outputs": [],
   "source": [
    "test_reg = models_dict[1][\"mlp_single_layer_30\"]"
   ]
  },
  {
   "cell_type": "code",
   "execution_count": null,
   "metadata": {},
   "outputs": [],
   "source": [
    "def eval_node(stringId, test_reg):\n",
    "    test_df = dataset_df[dataset_insdata_df[\"stringId\"] == stringId].copy()\n",
    "    test_df[\"year_0_pred\"] = test_reg.predict(test_df.drop([\"year_0\"], axis=1))\n",
    "    test_df[\"pred_err\"] = (test_df[\"year_0_pred\"] - test_df[\"year_0\"]).abs()\n",
    "    return test_df"
   ]
  },
  {
   "cell_type": "markdown",
   "metadata": {},
   "source": [
    "## Creditors"
   ]
  },
  {
   "cell_type": "code",
   "execution_count": null,
   "metadata": {},
   "outputs": [],
   "source": [
    "## GE Money Bank\n",
    "eval_node(\"gemoneybank\", test_reg)"
   ]
  },
  {
   "cell_type": "code",
   "execution_count": null,
   "metadata": {},
   "outputs": [],
   "source": [
    "## Provident Financial\n",
    "eval_node(\"providentfinancial\", test_reg)"
   ]
  },
  {
   "cell_type": "code",
   "execution_count": null,
   "metadata": {},
   "outputs": [],
   "source": [
    "## Cetelem\n",
    "eval_node(u\"cetelemčr\", test_reg)"
   ]
  },
  {
   "cell_type": "markdown",
   "metadata": {},
   "source": [
    "## Administrators"
   ]
  },
  {
   "cell_type": "code",
   "execution_count": null,
   "metadata": {},
   "outputs": [],
   "source": [
    "eval_node(u\"adm_5727\", test_reg)"
   ]
  },
  {
   "cell_type": "markdown",
   "metadata": {},
   "source": [
    "## Debtors"
   ]
  },
  {
   "cell_type": "code",
   "execution_count": null,
   "metadata": {},
   "outputs": [],
   "source": [
    "eval_node(u\"ksbrins3336/2013\", test_reg)"
   ]
  },
  {
   "cell_type": "code",
   "execution_count": null,
   "metadata": {},
   "outputs": [],
   "source": [
    "# "
   ]
  }
 ],
 "metadata": {
  "kernelspec": {
   "display_name": "Python 2",
   "language": "python",
   "name": "python2"
  },
  "language_info": {
   "codemirror_mode": {
    "name": "ipython",
    "version": 2
   },
   "file_extension": ".py",
   "mimetype": "text/x-python",
   "name": "python",
   "nbconvert_exporter": "python",
   "pygments_lexer": "ipython2",
   "version": "2.7.10"
  }
 },
 "nbformat": 4,
 "nbformat_minor": 2
}
