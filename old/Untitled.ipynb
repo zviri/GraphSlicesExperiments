{
 "cells": [
  {
   "cell_type": "code",
   "execution_count": 1,
   "metadata": {},
   "outputs": [],
   "source": [
    "import networkx as nx"
   ]
  },
  {
   "cell_type": "code",
   "execution_count": 2,
   "metadata": {},
   "outputs": [],
   "source": [
    "g = nx.DiGraph()\n",
    "g.add_node(1)\n",
    "g.add_node(2)\n",
    "g.add_node(3)\n",
    "g.add_node(4)\n",
    "\n",
    "g.add_edge(1, 2, weight=1.0)\n",
    "g.add_edge(2, 3, weight=2.0)\n",
    "g.add_edge(3, 1, weight=3.0)\n",
    "g.add_edge(2, 4, weight=4.0)"
   ]
  },
  {
   "cell_type": "code",
   "execution_count": 3,
   "metadata": {},
   "outputs": [
    {
     "data": {
      "text/plain": [
       "({1: 3.7252902707063384e-09,\n",
       "  2: 0.9999999925494194,\n",
       "  3: 3.7252902707063384e-09,\n",
       "  4: 0.0},\n",
       " {1: 3.7252902707063384e-09,\n",
       "  2: 3.7252902707063384e-09,\n",
       "  3: 0.4999999962747097,\n",
       "  4: 0.4999999962747097})"
      ]
     },
     "execution_count": 3,
     "metadata": {},
     "output_type": "execute_result"
    }
   ],
   "source": [
    "nx.hits(g)"
   ]
  },
  {
   "cell_type": "code",
   "execution_count": 4,
   "metadata": {},
   "outputs": [
    {
     "data": {
      "text/plain": [
       "({1: 3.7252902707063384e-09,\n",
       "  2: 0.9999999925494194,\n",
       "  3: 3.7252902707063384e-09,\n",
       "  4: 0.0},\n",
       " {1: 3.7252902707063384e-09,\n",
       "  2: 3.7252902707063384e-09,\n",
       "  3: 0.4999999962747097,\n",
       "  4: 0.4999999962747097})"
      ]
     },
     "execution_count": 4,
     "metadata": {},
     "output_type": "execute_result"
    }
   ],
   "source": [
    "nx.hits(g)"
   ]
  },
  {
   "cell_type": "code",
   "execution_count": null,
   "metadata": {},
   "outputs": [],
   "source": []
  }
 ],
 "metadata": {
  "kernelspec": {
   "display_name": "Python 2",
   "language": "python",
   "name": "python2"
  },
  "language_info": {
   "codemirror_mode": {
    "name": "ipython",
    "version": 2
   },
   "file_extension": ".py",
   "mimetype": "text/x-python",
   "name": "python",
   "nbconvert_exporter": "python",
   "pygments_lexer": "ipython2",
   "version": "2.7.10"
  }
 },
 "nbformat": 4,
 "nbformat_minor": 2
}
