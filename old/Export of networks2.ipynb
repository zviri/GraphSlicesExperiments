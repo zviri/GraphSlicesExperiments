{
 "cells": [
  {
   "cell_type": "code",
   "execution_count": 1,
   "metadata": {
    "collapsed": true
   },
   "outputs": [],
   "source": [
    "import codecs\n",
    "import argparse\n",
    "import datetime as dt\n",
    "import psycopg2\n",
    "import psycopg2.extras\n",
    "from sets import Set\n",
    "import re"
   ]
  },
  {
   "cell_type": "code",
   "execution_count": 2,
   "metadata": {
    "collapsed": true
   },
   "outputs": [],
   "source": [
    "def get_senate(reference_number):\n",
    "    matcher = re.search('([A-Z]+) ([0-9]+) INS .*', reference_number)\n",
    "    if not matcher:\n",
    "        return None    \n",
    "    return matcher.group(1) + \"-\" + matcher.group(2)"
   ]
  },
  {
   "cell_type": "code",
   "execution_count": 3,
   "metadata": {
    "collapsed": true
   },
   "outputs": [],
   "source": [
    "conn = psycopg2.connect(database=\"isir_prod_db\", \n",
    "                        user='developer123',\n",
    "                        password='5AWi7e1l8JKE',  \n",
    "                        port=6667, \n",
    "                        host='isir.datlab.cz') \n",
    "cur = conn.cursor(cursor_factory=psycopg2.extras.DictCursor)"
   ]
  },
  {
   "cell_type": "code",
   "execution_count": 18,
   "metadata": {
    "collapsed": true
   },
   "outputs": [],
   "source": [
    "legal_form_removal_regexp='(sro|as|ks|spol|spolsro|družstvo|sp|splikv|vos|ops|soukromáspolečnostsručenímomezeným)$'\n",
    "char_removal_regexp='[,.\"-&+\\s]*'\n",
    "output_folder = '/home/ipython/data/isir/networks_2.0/'"
   ]
  },
  {
   "cell_type": "code",
   "execution_count": 19,
   "metadata": {
    "collapsed": true
   },
   "outputs": [],
   "source": [
    "creditors = {\n",
    "    u\"GE Money Bank a.s.\":\"25672720\",\n",
    "    u\"Česká spořitelna, a.s\":\"45244782\",\n",
    "    u\"CETELEM ČR, a.s.\":\"25085689\",\n",
    "    u\"Provident Financial s.r.o.\":\"25621351\",\n",
    "    u\"PROFI CREDIT Czech, a.s.\":\"61860069\",\n",
    "    u\"SMART Capital, a.s.\":\"26865297\",\n",
    "    u\"Home Credit, a.s.\":\"26978636\",\n",
    "    u\"Essox s.r.o.\":\"26764652\",\n",
    "    u\"Telefónica Czech Republic,a.s.\":\"60193336\",\n",
    "    u\"T-Mobile Czech Republic, a.s.\":\"64949681\",\n",
    "    u\"Všeobecná zdravotní pojišťovna České Republiky\":\"41197518\",\n",
    "    u\"Komerční banka, a.s.\":\"45317054\",\n",
    "    u\"ČEZ Prodej, s.r.o\":\"27232433\",\n",
    "    u\"COFIDIS s.r.o.\":\"27179907\",\n",
    "    u\"Československá obchodní banka,a.s.\":\"1350\",\n",
    "    u\"Profidebt, s.r.o.\":\"27221971\",\n",
    "    u\"Citibank Europe, plc\":\"28198131\",\n",
    "    u\"Raiffeisenbank, a.s.\":\"49240901\",\n",
    "    u\"Česká podnikatelská pojišťovna, a.s.\":\"63998530\",\n",
    "    u\"Kooperativa pojišťovna, a.s.\":\"47116617\",\n",
    "    u\"Bohemia Faktoring, s.r.o.\":\"27242617\"\n",
    "}\n",
    "creditors_inverted = dict([(val, key) for key,val in creditors.items()])"
   ]
  },
  {
   "cell_type": "code",
   "execution_count": 20,
   "metadata": {
    "collapsed": true
   },
   "outputs": [],
   "source": [
    "creditor_ids = [re.sub(legal_form_removal_regexp, '', re.sub(char_removal_regexp, '', cname.lower())) \\\n",
    "                for cname in creditors.keys()]"
   ]
  },
  {
   "cell_type": "code",
   "execution_count": 21,
   "metadata": {
    "collapsed": true
   },
   "outputs": [],
   "source": [
    "def get_senate_num(reference_number):\n",
    "    matcher = re.search('([A-Z]+) ([0-9]+) INS .*', reference_number)\n",
    "    return matcher.group(2) if matcher else None"
   ]
  },
  {
   "cell_type": "code",
   "execution_count": 22,
   "metadata": {},
   "outputs": [
    {
     "data": {
      "text/plain": [
       "'KSPL-27'"
      ]
     },
     "execution_count": 22,
     "metadata": {},
     "output_type": "execute_result"
    }
   ],
   "source": [
    "get_senate('KSPL 27 INS 2047 / 2014')"
   ]
  },
  {
   "cell_type": "code",
   "execution_count": 25,
   "metadata": {
    "collapsed": true
   },
   "outputs": [],
   "source": [
    "def export_graph(year, region, region_name):\n",
    "    cur.execute(\"SELECT regexp_replace(regexp_replace(lower(creditor), %s, '', 'g'), %s, '', 'g') as creditor_id, max(creditor) as creditor_name, count(*) as c  \\\n",
    "             FROM v_creditors_receivables ft \\\n",
    "             WHERE regexp_replace(regexp_replace(lower(creditor), %s, '', 'g'), %s, '', 'g') = ANY(%s) \\\n",
    "             GROUP BY creditor_id \\\n",
    "             ORDER BY c DESC \\\n",
    "             LIMIT 1000\", (char_removal_regexp, legal_form_removal_regexp, char_removal_regexp, legal_form_removal_regexp, creditor_ids))\n",
    "    creditors_db = cur.fetchall()\n",
    "    \n",
    "    cur.execute(\"SELECT at.id, at.name  \\\n",
    "                      FROM administrators_tab at \\\n",
    "                      JOIN insolvencies_administrators_tab iat ON iat.administrator_id=at.id \\\n",
    "                      JOIN (SELECT it.id, it.debtor_name \\\n",
    "                             FROM insolvency_tab it \\\n",
    "                                 JOIN v_creditors_receivables ft2 ON it.id=ft2.insolvency_id \\\n",
    "                                 JOIN (SELECT regexp_replace(regexp_replace(lower(ft.creditor), %s, '', 'g'), %s, '', 'g') as creditor_id, count(*) as c \\\n",
    "                                      FROM v_creditors_receivables ft \\\n",
    "                                      WHERE regexp_replace(regexp_replace(lower(creditor), %s, '', 'g'), %s, '', 'g') = ANY(%s) \\\n",
    "                                      GROUP BY creditor_id \\\n",
    "                                      ORDER BY c DESC \\\n",
    "                                      LIMIT 1000) as ct ON regexp_replace(regexp_replace(lower(ft2.creditor), %s, '', 'g'), %s, '', 'g') = ct.creditor_id \\\n",
    "                            WHERE ft2.creditor is not null \\\n",
    "                                  AND EXTRACT(YEAR FROM proposal_timestamp) = %s \\\n",
    "                                  AND it.region_id IN (%s) \\\n",
    "                            GROUP BY it.id, it.debtor_name) as its \\\n",
    "                      ON iat.insolvency_id=its.id \\\n",
    "                      GROUP BY at.id, at.name\", (char_removal_regexp, legal_form_removal_regexp, \n",
    "                                                          char_removal_regexp, legal_form_removal_regexp, creditor_ids, \n",
    "                                                          char_removal_regexp, legal_form_removal_regexp,\n",
    "                                                          year, region))\n",
    "    administrators = cur.fetchall()\n",
    "    \n",
    "    cur.execute(\"SELECT it3.id as id, it3.debtor_name as debtor_name, it3.person_type as person_type, it3.reference_number as reference_number \\\n",
    "                FROM insolvency_tab it3  \\\n",
    "                JOIN \\\n",
    "                    (SELECT it.id \\\n",
    "                    FROM insolvency_tab it \\\n",
    "                         JOIN v_creditors_receivables ft2 ON it.id=ft2.insolvency_id \\\n",
    "                         JOIN (SELECT regexp_replace(regexp_replace(lower(ft.creditor), %s, '', 'g'), %s, '', 'g') as creditor_id, count(*) as c \\\n",
    "                              FROM v_creditors_receivables ft \\\n",
    "                              WHERE regexp_replace(regexp_replace(lower(creditor), %s, '', 'g'), %s, '', 'g') = ANY(%s) \\\n",
    "                              GROUP BY creditor_id \\\n",
    "                              ORDER BY c DESC \\\n",
    "                              LIMIT 1000) as ct ON regexp_replace(regexp_replace(lower(ft2.creditor), %s, '', 'g'), %s, '', 'g') = ct.creditor_id \\\n",
    "                    WHERE ft2.creditor is not null \\\n",
    "                          AND EXTRACT(YEAR FROM proposal_timestamp) = %s \\\n",
    "                          AND it.region_id IN (%s) \\\n",
    "                    GROUP BY it.id) as insolvencies \\\n",
    "                ON it3.id=insolvencies.id\", \n",
    "                (char_removal_regexp, legal_form_removal_regexp, \n",
    "                char_removal_regexp, legal_form_removal_regexp, creditor_ids, \n",
    "                char_removal_regexp, legal_form_removal_regexp,\n",
    "                year, region))\n",
    "    insolvencies = cur.fetchall()\n",
    "    \n",
    "    node_ids = Set()\n",
    "    with codecs.open(output_folder + 'nodes_%s_%d.tsv' % (region_name, year), \"w\", encoding=\"utf-8\") as nodes_file:\n",
    "        print >> nodes_file, \"id\\ttype\\tname\\tperson_type\"\n",
    "        for creditor in creditors_db:\n",
    "            node_ids.add(creditor['creditor_id'])\n",
    "            print >> nodes_file, unicode(\"%s\\t%s\\t%s\\t\" % (creditor['creditor_id'], \"creditor\", creditor['creditor_name']), 'utf-8')\n",
    "        for administrator in administrators:\n",
    "            node_ids.add(administrator['id'])\n",
    "            print >> nodes_file, unicode(\"adm_%s\\t%s\\t%s\\t\" % (administrator['id'], \"administrator\", administrator['name']), 'utf-8')\n",
    "        for insolvency in insolvencies:\n",
    "            node_ids.add(insolvency['id'])\n",
    "            print >> nodes_file, unicode(\"%s\\t%s\\t%s\\t%s\" % (insolvency['id'], \"debtor\", insolvency['debtor_name'], insolvency['person_type']), 'utf-8')\n",
    "        for insolvency in insolvencies:            \n",
    "            senate = get_senate(insolvency['reference_number'])\n",
    "            if not senate:\n",
    "                continue\n",
    "            node_ids.add(senate)\n",
    "            print >> nodes_file, unicode(\"jud_%s\\t%s\\tjud_%s\\t\" % (senate, \"senate\", senate), 'utf-8')\n",
    "            \n",
    "            \n",
    "    cur.execute(\"SELECT it.id AS insolvency_id, it.reference_number, iat.administrator_id \\\n",
    "                 FROM insolvencies_administrators_tab iat JOIN insolvency_tab it ON iat.insolvency_id=it.id\")\n",
    "    administrator_debtor_edges = cur.fetchall()\n",
    "\n",
    "    cur.execute(\"SELECT insolvency_id, regexp_replace(regexp_replace(lower(creditor), %s, '', 'g'), %s, '', 'g') as creditor_id \\\n",
    "                                 FROM v_creditors_receivables WHERE creditor is not null\", (char_removal_regexp, legal_form_removal_regexp))\n",
    "    creditor_debtor_edges = cur.fetchall()\n",
    "\n",
    "    cur.execute(\"SELECT it1.id as insolvency_id1, it2.id as insolvency_id2 FROM insolvency_tab it1 JOIN insolvency_tab it2 ON it1.debtor_address = it2.debtor_address \\\n",
    "                 WHERE it1.debtor_address is not null  \\\n",
    "                       AND it2.debtor_address is not null \\\n",
    "                       AND it1.debtor_name <> it2.debtor_name \\\n",
    "                       AND it1.region_id IN (%s) \\\n",
    "                       AND it2.region_id IN (%s) \\\n",
    "                       AND it1.id <> it2.id\", (region, region))\n",
    "    addresses = cur.fetchall()        \n",
    "\n",
    "    with codecs.open(output_folder + 'edges_%s_%d.tsv' % (region_name, year), \"w\", encoding=\"utf-8\") as edges_file:\n",
    "        print >> edges_file, \"Source\\tTarget\\trelation_type\"\n",
    "        for administrator_debtor in administrator_debtor_edges:\n",
    "            if administrator_debtor['administrator_id'] in node_ids and administrator_debtor['insolvency_id'] in node_ids:\n",
    "                senate = get_senate(administrator_debtor[\"reference_number\"])\n",
    "                print >> edges_file, unicode(\"jud_%s\\tadm_%s\\tappoints\" % (senate, administrator_debtor['administrator_id']), 'utf-8')    \n",
    "                print >> edges_file, unicode(\"adm_%s\\t%s\\tadministers\" % (administrator_debtor['administrator_id'], administrator_debtor['insolvency_id']), 'utf-8')\n",
    "        for creditor_debtor in creditor_debtor_edges:\n",
    "            if creditor_debtor['creditor_id'] in node_ids and creditor_debtor['insolvency_id'] in node_ids:\n",
    "                print >> edges_file, unicode(\"%s\\t%s\\towes\" % (creditor_debtor['insolvency_id'], creditor_debtor['creditor_id']), 'utf-8')\n",
    "        for address in addresses:\n",
    "            if address['insolvency_id1'] in node_ids and address['insolvency_id2'] in node_ids:\n",
    "                print >> edges_file, unicode(\"%s\\t%s\\tshare_address\" % (address['insolvency_id1'], address['insolvency_id2']), 'utf-8')    \n",
    "        for insolvency in insolvencies:\n",
    "            senate = get_senate(insolvency['reference_number'])\n",
    "            if not senate:\n",
    "                continue\n",
    "            print >> edges_file, unicode(\"jud_%s\\t%s\\tjudges\" % (senate, insolvency['id']), 'utf-8')    "
   ]
  },
  {
   "cell_type": "code",
   "execution_count": null,
   "metadata": {
    "scrolled": true
   },
   "outputs": [],
   "source": [
    "cur.execute('SELECT id, name FROM regions_tab')\n",
    "for [region_id, region_name] in cur.fetchall():    \n",
    "    print \"Processing region: %s\" % region_name\n",
    "    for year in range(2015, 2016):\n",
    "        print \"\\tYear: %d\" % year\n",
    "        export_graph(year, region_id, region_name.lower().replace(' ', ''))"
   ]
  },
  {
   "cell_type": "code",
   "execution_count": null,
   "metadata": {
    "collapsed": true
   },
   "outputs": [],
   "source": [
    "\n",
    "graph.add_edge()"
   ]
  }
 ],
 "metadata": {
  "kernelspec": {
   "display_name": "Python 2",
   "language": "python",
   "name": "python2"
  },
  "language_info": {
   "codemirror_mode": {
    "name": "ipython",
    "version": 3
   },
   "file_extension": ".py",
   "mimetype": "text/x-python",
   "name": "python",
   "nbconvert_exporter": "python",
   "pygments_lexer": "ipython3",
   "version": "3.6.4"
  }
 },
 "nbformat": 4,
 "nbformat_minor": 1
}
